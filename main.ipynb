{
 "cells": [
  {
   "cell_type": "code",
   "execution_count": 57,
   "id": "f67e01e8-9d70-4a16-b8b3-66b7e56ffa8f",
   "metadata": {},
   "outputs": [
    {
     "name": "stdout",
     "output_type": "stream",
     "text": [
      "Requirement already satisfied: wfdb in c:\\users\\ismai\\appdata\\local\\programs\\python\\python313\\lib\\site-packages (4.3.0)\n",
      "Requirement already satisfied: aiohttp>=3.10.11 in c:\\users\\ismai\\appdata\\local\\programs\\python\\python313\\lib\\site-packages (from wfdb) (3.11.18)\n",
      "Requirement already satisfied: fsspec>=2023.10.0 in c:\\users\\ismai\\appdata\\local\\programs\\python\\python313\\lib\\site-packages (from wfdb) (2025.3.2)\n",
      "Requirement already satisfied: matplotlib>=3.2.2 in c:\\users\\ismai\\appdata\\local\\programs\\python\\python313\\lib\\site-packages (from wfdb) (3.10.1)\n",
      "Requirement already satisfied: numpy>=1.26.4 in c:\\users\\ismai\\appdata\\local\\programs\\python\\python313\\lib\\site-packages (from wfdb) (2.1.3)\n",
      "Requirement already satisfied: pandas>=2.2.3 in c:\\users\\ismai\\appdata\\local\\programs\\python\\python313\\lib\\site-packages (from wfdb) (2.2.3)\n",
      "Requirement already satisfied: requests>=2.8.1 in c:\\users\\ismai\\appdata\\local\\programs\\python\\python313\\lib\\site-packages (from wfdb) (2.32.3)\n",
      "Requirement already satisfied: scipy>=1.13.0 in c:\\users\\ismai\\appdata\\local\\programs\\python\\python313\\lib\\site-packages (from wfdb) (1.15.2)\n",
      "Requirement already satisfied: soundfile>=0.10.0 in c:\\users\\ismai\\appdata\\local\\programs\\python\\python313\\lib\\site-packages (from wfdb) (0.13.1)\n",
      "Requirement already satisfied: aiohappyeyeballs>=2.3.0 in c:\\users\\ismai\\appdata\\local\\programs\\python\\python313\\lib\\site-packages (from aiohttp>=3.10.11->wfdb) (2.6.1)\n",
      "Requirement already satisfied: aiosignal>=1.1.2 in c:\\users\\ismai\\appdata\\local\\programs\\python\\python313\\lib\\site-packages (from aiohttp>=3.10.11->wfdb) (1.3.2)\n",
      "Requirement already satisfied: attrs>=17.3.0 in c:\\users\\ismai\\appdata\\local\\programs\\python\\python313\\lib\\site-packages (from aiohttp>=3.10.11->wfdb) (25.3.0)\n",
      "Requirement already satisfied: frozenlist>=1.1.1 in c:\\users\\ismai\\appdata\\local\\programs\\python\\python313\\lib\\site-packages (from aiohttp>=3.10.11->wfdb) (1.6.0)\n",
      "Requirement already satisfied: multidict<7.0,>=4.5 in c:\\users\\ismai\\appdata\\local\\programs\\python\\python313\\lib\\site-packages (from aiohttp>=3.10.11->wfdb) (6.4.3)\n",
      "Requirement already satisfied: propcache>=0.2.0 in c:\\users\\ismai\\appdata\\local\\programs\\python\\python313\\lib\\site-packages (from aiohttp>=3.10.11->wfdb) (0.3.1)\n",
      "Requirement already satisfied: yarl<2.0,>=1.17.0 in c:\\users\\ismai\\appdata\\local\\programs\\python\\python313\\lib\\site-packages (from aiohttp>=3.10.11->wfdb) (1.20.0)\n",
      "Requirement already satisfied: contourpy>=1.0.1 in c:\\users\\ismai\\appdata\\local\\programs\\python\\python313\\lib\\site-packages (from matplotlib>=3.2.2->wfdb) (1.3.2)\n",
      "Requirement already satisfied: cycler>=0.10 in c:\\users\\ismai\\appdata\\local\\programs\\python\\python313\\lib\\site-packages (from matplotlib>=3.2.2->wfdb) (0.12.1)\n",
      "Requirement already satisfied: fonttools>=4.22.0 in c:\\users\\ismai\\appdata\\local\\programs\\python\\python313\\lib\\site-packages (from matplotlib>=3.2.2->wfdb) (4.57.0)\n",
      "Requirement already satisfied: kiwisolver>=1.3.1 in c:\\users\\ismai\\appdata\\local\\programs\\python\\python313\\lib\\site-packages (from matplotlib>=3.2.2->wfdb) (1.4.8)\n",
      "Requirement already satisfied: packaging>=20.0 in c:\\users\\ismai\\appdata\\local\\programs\\python\\python313\\lib\\site-packages (from matplotlib>=3.2.2->wfdb) (25.0)\n",
      "Requirement already satisfied: pillow>=8 in c:\\users\\ismai\\appdata\\local\\programs\\python\\python313\\lib\\site-packages (from matplotlib>=3.2.2->wfdb) (11.2.1)\n",
      "Requirement already satisfied: pyparsing>=2.3.1 in c:\\users\\ismai\\appdata\\local\\programs\\python\\python313\\lib\\site-packages (from matplotlib>=3.2.2->wfdb) (3.2.3)\n",
      "Requirement already satisfied: python-dateutil>=2.7 in c:\\users\\ismai\\appdata\\local\\programs\\python\\python313\\lib\\site-packages (from matplotlib>=3.2.2->wfdb) (2.9.0.post0)\n",
      "Requirement already satisfied: pytz>=2020.1 in c:\\users\\ismai\\appdata\\local\\programs\\python\\python313\\lib\\site-packages (from pandas>=2.2.3->wfdb) (2024.2)\n",
      "Requirement already satisfied: tzdata>=2022.7 in c:\\users\\ismai\\appdata\\local\\programs\\python\\python313\\lib\\site-packages (from pandas>=2.2.3->wfdb) (2024.2)\n",
      "Requirement already satisfied: charset-normalizer<4,>=2 in c:\\users\\ismai\\appdata\\local\\programs\\python\\python313\\lib\\site-packages (from requests>=2.8.1->wfdb) (3.4.1)\n",
      "Requirement already satisfied: idna<4,>=2.5 in c:\\users\\ismai\\appdata\\local\\programs\\python\\python313\\lib\\site-packages (from requests>=2.8.1->wfdb) (3.10)\n",
      "Requirement already satisfied: urllib3<3,>=1.21.1 in c:\\users\\ismai\\appdata\\local\\programs\\python\\python313\\lib\\site-packages (from requests>=2.8.1->wfdb) (2.4.0)\n",
      "Requirement already satisfied: certifi>=2017.4.17 in c:\\users\\ismai\\appdata\\local\\programs\\python\\python313\\lib\\site-packages (from requests>=2.8.1->wfdb) (2025.4.26)\n",
      "Requirement already satisfied: cffi>=1.0 in c:\\users\\ismai\\appdata\\local\\programs\\python\\python313\\lib\\site-packages (from soundfile>=0.10.0->wfdb) (1.17.1)\n",
      "Requirement already satisfied: pycparser in c:\\users\\ismai\\appdata\\local\\programs\\python\\python313\\lib\\site-packages (from cffi>=1.0->soundfile>=0.10.0->wfdb) (2.22)\n",
      "Requirement already satisfied: six>=1.5 in c:\\users\\ismai\\appdata\\local\\programs\\python\\python313\\lib\\site-packages (from python-dateutil>=2.7->matplotlib>=3.2.2->wfdb) (1.16.0)\n",
      "Note: you may need to restart the kernel to use updated packages.\n"
     ]
    },
    {
     "name": "stderr",
     "output_type": "stream",
     "text": [
      "\n",
      "[notice] A new release of pip is available: 24.2 -> 25.1.1\n",
      "[notice] To update, run: python.exe -m pip install --upgrade pip\n"
     ]
    }
   ],
   "source": [
    "pip install wfdb"
   ]
  },
  {
   "cell_type": "code",
   "execution_count": 2,
   "id": "b136a408",
   "metadata": {},
   "outputs": [],
   "source": [
    "import wfdb\n",
    "import numpy as np\n",
    "import os\n",
    "import csv\n",
    "import heapq\n",
    "from scipy.ndimage import gaussian_filter1d\n",
    "from scipy.signal import medfilt\n",
    "from sklearn.preprocessing import StandardScaler\n",
    "from sklearn.model_selection import train_test_split\n",
    "from sklearn.linear_model import RidgeClassifier\n",
    "import pandas as pd\n",
    "import matplotlib.pyplot as plt\n",
    "import seaborn as sns\n",
    "from sklearn.model_selection import StratifiedKFold\n",
    "from sklearn.metrics import accuracy_score, precision_score, recall_score, f1_score, confusion_matrix, classification_report\n",
    "from sklearn.neighbors import KNeighborsClassifier  # or KNeighborsRegressor if regression\n",
    "from sklearn.model_selection import GridSearchCV, train_test_split\n",
    "from sklearn.metrics import accuracy_score\n",
    "from collections import Counter\n"
   ]
  },
  {
   "cell_type": "code",
   "execution_count": 3,
   "id": "2bf1f8db",
   "metadata": {},
   "outputs": [],
   "source": [
    "def downsample_by_averaging(signal, factor):\n",
    "    downsampled_signal = []\n",
    "    \n",
    "    for i in range(0, len(signal), factor): # moves by index of 8\n",
    "        chunk = signal[i:i+factor, :] \n",
    "        downsampled_signal.append(np.mean(chunk, axis=0))  # avg of each column\n",
    "        \n",
    "    return np.array(downsampled_signal)\n"
   ]
  },
  {
   "cell_type": "code",
   "execution_count": 4,
   "id": "df494514",
   "metadata": {
    "scrolled": true
   },
   "outputs": [],
   "source": [
    "data_list=[] #takes all the subjects \n",
    "directory=\"non-eeg-dataset-for-assessment-of-neurological-status-1.0.0\" # directory to all the files ATR, DAT, HEA\n",
    "csv_path = os.path.join(directory, 'subjectinfo.csv') \n",
    "for i in range(1,21):\n",
    "    ACCTEMPEDA_Path = os.path.join(directory, f'Subject{i}_AccTempEDA') \n",
    "    SPO2HR_Path = os.path.join(directory, f'Subject{i}_SpO2HR') \n",
    "\n",
    "    ACCTEMPEDA_Record = wfdb.rdrecord(ACCTEMPEDA_Path) #  rdrecord read .dat and .hea file\n",
    "    SPO2HR_Record = wfdb.rdrecord(SPO2HR_Path) \n",
    "    annotations = wfdb.rdann(ACCTEMPEDA_Path, 'atr') # rdann reads .atr file\n",
    "\n",
    "    # ACCTEMPEDA_DownSampled = downsample_by_averaging(ACCTEMPEDA_Record.p_signal, 8) # downsample ACCTEMP EDA as it is 8 HZ\n",
    "    # ACCTEMPEDA_DownSampled_Record = wfdb.Record(\n",
    "    #     record_name=f'Subject{i}_AccTempEDA_DownSampled', \n",
    "    #     p_signal=ACCTEMPEDA_DownSampled, \n",
    "    #     fs=1,\n",
    "    #     sig_name=ACCTEMPEDA_Record.sig_name,\n",
    "    #     units=ACCTEMPEDA_Record.units        \n",
    "    # )\n",
    "    with open(csv_path, newline='') as csvfile:\n",
    "        reader = csv.DictReader(csvfile)\n",
    "        for row in reader:\n",
    "            if int(row['subject']) == i:\n",
    "                data_list.append({\n",
    "                    'subject_id': i,\n",
    "                    'acc_temp_eda': ACCTEMPEDA_Record,\n",
    "                    'spo2_hr': SPO2HR_Record,\n",
    "                    'annotations': annotations,\n",
    "                    'age': int(row['age']),\n",
    "                    'gender': row['gender'],\n",
    "                    'height_cm': int(row['height/cm']),\n",
    "                    'weight_kg': int(row['weight/kg'])\n",
    "                })\n",
    "                #print(f\"Subject {i} Metadata:\")\n",
    "                #print(f\"  Age: {int(row['age'])}\")\n",
    "                #print(f\"  Gender: {row['gender']}\")\n",
    "                #print(f\"  Height (cm): {int(row['height/cm'])}\")\n",
    "                #print(f\"  Weight (kg): {int(row['weight/kg'])}\")\n",
    "                "
   ]
  },
  {
   "cell_type": "code",
   "execution_count": 5,
   "id": "cc7c32f8-8b08-440d-ad1e-21ddc69f7177",
   "metadata": {},
   "outputs": [
    {
     "name": "stdout",
     "output_type": "stream",
     "text": [
      "[[ 0.96997131 -0.67005829 -0.07004547 28.70009461  0.81804387]\n",
      " [ 0.96997131 -0.6800177  -0.07004547 28.90009461  0.81804387]\n",
      " [ 0.97998291 -0.67005829 -0.07004547 28.90009461  0.81601674]\n",
      " ...\n",
      " [ 1.0199881  -0.55000336 -0.21004151 32.9         0.64901976]\n",
      " [ 1.02999969 -0.55000336 -0.21004151 32.9         0.64901976]\n",
      " [ 1.0199881  -0.55000336 -0.21004151 32.9         0.64901976]]\n"
     ]
    }
   ],
   "source": [
    "sub = data_list[1]\n",
    "#print()\n",
    "print(sub['acc_temp_eda'].p_signal)"
   ]
  },
  {
   "cell_type": "code",
   "execution_count": 6,
   "id": "be9f923d",
   "metadata": {},
   "outputs": [
    {
     "data": {
      "image/png": "[encoded data removed]",
      "text/plain": [
       "<Figure size 640x480 with 5 Axes>"
      ]
     },
     "metadata": {},
     "output_type": "display_data"
    },
    {
     "data": {
      "image/png": "[encoded data removed]",
      "text/plain": [
       "<Figure size 640x480 with 2 Axes>"
      ]
     },
     "metadata": {},
     "output_type": "display_data"
    }
   ],
   "source": [
    "subject = data_list[1]  \n",
    "wfdb.plot_wfdb( record=subject['acc_temp_eda'], annotation=subject['annotations'], time_units='minutes', title='Subject 1 - Downsampled AccTempEDA (1Hz)')\n",
    "wfdb.plot_wfdb( record=subject['spo2_hr'], annotation=subject['annotations'], time_units='minutes', title='Subject 1 - SpO2HR Signals')"
   ]
  },
  {
   "cell_type": "markdown",
   "id": "51c0c221-d3cc-4263-8a69-d33b0df9ed57",
   "metadata": {},
   "source": [
    "# Extracting and Combining Data by Class"
   ]
  },
  {
   "cell_type": "markdown",
   "id": "3537a7a5-41a3-46ce-a6f2-79413b897c93",
   "metadata": {},
   "source": [
    "## Utility functions"
   ]
  },
  {
   "cell_type": "code",
   "execution_count": 7,
   "id": "f43c655a-f58d-4e41-9fc7-9e1eea7aa5f8",
   "metadata": {},
   "outputs": [],
   "source": [
    "# extract the ranges of each stage from their annotation\n",
    "def get_stages(annotation, size):\n",
    "    stages = []\n",
    "    for i, (samp, note) in enumerate(zip(annotation.sample, annotation.aux_note)):\n",
    "        stages.append({\"Label\" : note, \"start\": samp, \"end\": 0}) # dummy end\n",
    "    \n",
    "    for i in range((len(stages) - 1)):\n",
    "        stages[i][\"end\"] = stages[i+1][\"start\"] # each stages end is the next one's beginning\n",
    "    stages[-1][\"end\"] = size # set the end of last stage as the length of the data\n",
    "\n",
    "    return stages  "
   ]
  },
  {
   "cell_type": "code",
   "execution_count": 8,
   "id": "e4412628-2f72-4c72-89e4-cbf4b1e7d0f7",
   "metadata": {},
   "outputs": [],
   "source": [
    "# find label of a data point at a given index based on the ranges of each stage\n",
    "def find_label(stages, index):\n",
    "    for stage in stages:\n",
    "        if index >= stage['start'] and index < stage['end']:\n",
    "            return stage[\"Label\"]\n",
    "    return \"Unknown\""
   ]
  },
  {
   "cell_type": "code",
   "execution_count": 9,
   "id": "6dc20640-9afa-4d12-bc1c-a99e043a3a90",
   "metadata": {},
   "outputs": [],
   "source": [
    "# label the AccTempEDA data\n",
    "def extract_labeled_AccTempEDA(record, annotation):\n",
    "    stages = get_stages(annotation, record.p_signal.shape[0]) # get the range for each stage\n",
    "    data = record.p_signal # extract the data into a numpy array\n",
    "    labels = [] # array to store the labels corresponding to each data point in the record\n",
    "    for idx, entry in enumerate(data): # loop over all the data\n",
    "        labels.append((find_label(stages, idx))) # find the label based on the points index\n",
    "    labeled_data = np.column_stack((data, labels)) # append the labels column to the data \n",
    "    return labeled_data # return the labeled data"
   ]
  },
  {
   "cell_type": "code",
   "execution_count": 10,
   "id": "a9ec0707-8dc6-487b-a76a-f8b7b58ff552",
   "metadata": {},
   "outputs": [],
   "source": [
    "# downsample by averaging BUT make sure you stay within a given class\n",
    "def downsample_by_averaging(data, factor):\n",
    "    downsampled_data = []\n",
    "    i = 0\n",
    "    while i + factor <= len(data): # cannot use for (range) as we may need to update i\n",
    "        class_label = data[i][-1] # get the expected class lavel\n",
    "        if class_label == data[i + factor - 1][-1]: # if all the data belongs to one class\n",
    "            chunk = data[i: i + factor, :-1].astype(float) # extract a chunk (ignore last column [label] to average and cast to float to counter the upcasting when we added the label)\n",
    "            avg_chunk = np.mean(chunk, axis=0)\n",
    "            downsampled_data.append(np.append(avg_chunk, class_label))  # avg of each column while adding back the label\n",
    "            i += factor\n",
    "        else: # we have crossed into a new class, need to reset i to beginning of the new class\n",
    "            for j in range(i + 1, i + factor):\n",
    "                if data[j-1][-1] != data[j][-1]: # if data at index j has a different class from the one before it, update i and break\n",
    "                    i = j\n",
    "                    break\n",
    "                    \n",
    "    return np.array(downsampled_data)"
   ]
  },
  {
   "cell_type": "code",
   "execution_count": 11,
   "id": "33a01bc0-5b4c-4c14-bfaf-1c059177d7e8",
   "metadata": {},
   "outputs": [],
   "source": [
    "# combine AccTempEDA and Spo2HR data while truncating them to be of the same length\n",
    "# CRUCIAL but naive assumption! time stamps match after downsampling (technically incorrect)\n",
    "def combine(AccTempEDA, Spo2HR):\n",
    "    min_length = min(len(AccTempEDA), len(Spo2HR)) # finds the minimum length to align the points properly\n",
    "\n",
    "    # concatenate the truncated columns from AccTempEDA with those from Spo2HR and add the labels at the end\n",
    "    combined_data = np.column_stack((AccTempEDA[:min_length, :-1], Spo2HR[:min_length], AccTempEDA[:min_length, -1:]))\n",
    "\n",
    "    return combined_data"
   ]
  },
  {
   "cell_type": "markdown",
   "id": "3f73be24-0eed-4023-9901-125fd8e1ac42",
   "metadata": {},
   "source": [
    "# Extracting Raw and Preprocessed data"
   ]
  },
  {
   "cell_type": "code",
   "execution_count": 12,
   "id": "0039b668-b876-43da-ab90-04455083d0c4",
   "metadata": {},
   "outputs": [],
   "source": [
    "# val is 1 incase labels are included 0 otherwise \n",
    "def preprocess(wavevec):\n",
    "    final_vec = [] # stores the filtered signals\n",
    "    for i in range(0,len(wavevec[0])): # goes through each point in the signal\n",
    "        one_col = [wavevec[s][i].astype(float) for s in range(0,len(wavevec))] # filters column by column\n",
    "        one_col = medfilt(one_col, kernel_size=9) # filtering each column\n",
    "        if i == 0:\n",
    "            final_vec = one_col\n",
    "        else:\n",
    "            final_vec = np.column_stack((final_vec, one_col))\n",
    "    return final_vec"
   ]
  },
  {
   "cell_type": "code",
   "execution_count": 13,
   "id": "096c06d3-a103-4f51-860b-018043175c4b",
   "metadata": {},
   "outputs": [],
   "source": [
    "# get the full data for each subject\n",
    "def get_subject_data_preprocessed(AccTempEDA_record, Spo2HR_record, AccTempEDA_annotation):\n",
    "    AccTempEDA_record.p_signal = preprocess(AccTempEDA_record.p_signal)\n",
    "    AccTempEDA = extract_labeled_AccTempEDA(AccTempEDA_record, AccTempEDA_annotation) # extract and label AccTempEDA record\n",
    "    #print(AccTempEDA[3000])\n",
    "    AccTempEDA = downsample_by_averaging(AccTempEDA, 8) # downsample to match the other Spo2HR's rate\n",
    "    Spo2HR = preprocess(Spo2HR_record.p_signal) # extract Spo2HR record\n",
    "    #print(Spo2HR.shape)\n",
    "    combined_data = combine(AccTempEDA, Spo2HR) # combine both records\n",
    "    #print(len(combined_data))\n",
    "    return combined_data # return the resulting data"
   ]
  },
  {
   "cell_type": "code",
   "execution_count": 14,
   "id": "296cfbde-f324-4d4b-b04b-6510daf0d64c",
   "metadata": {},
   "outputs": [],
   "source": [
    "def get_subject_data_raw(AccTempEDA_record, Spo2HR_record, AccTempEDA_annotation):\n",
    "    AccTempEDA = extract_labeled_AccTempEDA(AccTempEDA_record, AccTempEDA_annotation) # extract and label AccTempEDA record\n",
    "    #print(AccTempEDA[3000])\n",
    "    #print(AccTempEDA)\n",
    "    AccTempEDA = downsample_by_averaging(AccTempEDA, 8) # downsample to match the other Spo2HR's rate\n",
    "    Spo2HR = Spo2HR_record.p_signal # extract Spo2HR record\n",
    "    #print(Spo2HR.shape)\n",
    "    combined_data = combine(AccTempEDA, Spo2HR) # combine both records\n",
    "    #print(len(combined_data))\n",
    "    return combined_data # return the resulting data"
   ]
  },
  {
   "cell_type": "markdown",
   "id": "679a1c61-e23a-4fab-b308-ed091c60f757",
   "metadata": {},
   "source": [
    "# Function to read and get raw data for all subjects and store them in csvs"
   ]
  },
  {
   "cell_type": "code",
   "execution_count": 15,
   "id": "3ec1f124-548c-478e-a10f-f2e82f152c64",
   "metadata": {
    "scrolled": true
   },
   "outputs": [],
   "source": [
    "read_directory=\"non-eeg-dataset-for-assessment-of-neurological-status-1.0.0\" # directory to all the files ATR, DAT, HEA\n",
    "type = \"Preprocessed\"\n",
    "write_directory= f\"Subject Data {type}\"\n",
    "all_sub_info = []\n",
    "for i in range(1,21):\n",
    "    csv_path = os.path.join(write_directory, f'subject_{i}_data_{type}.csv')\n",
    "    ACCTEMPEDA_Path = os.path.join(read_directory, f'Subject{i}_AccTempEDA') \n",
    "    SPO2HR_Path = os.path.join(read_directory, f'Subject{i}_SpO2HR') \n",
    "\n",
    "    ACCTEMPEDA_Record = wfdb.rdrecord(ACCTEMPEDA_Path) #  rdrecord read .dat and .hea file\n",
    "    SPO2HR_Record = wfdb.rdrecord(SPO2HR_Path) \n",
    "    annotations = wfdb.rdann(ACCTEMPEDA_Path, 'atr') # rdann reads .atr file\n",
    "    subject_data = get_subject_data_preprocessed(ACCTEMPEDA_Record, SPO2HR_Record, annotations)\n",
    "    all_sub_info.append(subject_data)\n",
    "    # #print(f'subject{i}: {len(subject_data)}') \n",
    "    # with open(csv_path, mode='w', newline='') as csvfile:\n",
    "    #     writer = csv.writer(csvfile)\n",
    "    #     # Write headers\n",
    "    #     writer.writerow(['ax', 'ay', 'az', 'temp', 'EDA', 'SpO2', 'HR', 'label'])\n",
    "    #     # Write each row of subject data\n",
    "    #     for row in subject_data:\n",
    "    #         writer.writerow(row)"
   ]
  },
  {
   "cell_type": "code",
   "execution_count": 16,
   "id": "33f91fcb-49f6-4018-a334-83df44c77e6c",
   "metadata": {},
   "outputs": [
    {
     "data": {
      "text/plain": [
       "20"
      ]
     },
     "execution_count": 16,
     "metadata": {},
     "output_type": "execute_result"
    }
   ],
   "source": [
    "len(all_sub_info)"
   ]
  },
  {
   "cell_type": "markdown",
   "id": "a2278251-b505-429e-8e58-7c327c8cc6b3",
   "metadata": {},
   "source": [
    "# Function to get the data in the desired window sizes"
   ]
  },
  {
   "cell_type": "code",
   "execution_count": 17,
   "id": "628bdb47-4077-4cf8-8ef3-bac042affb30",
   "metadata": {},
   "outputs": [],
   "source": [
    "def windowSel(data, factor):\n",
    "    # stores the windowed sample\n",
    "    windowed = []\n",
    "    labels = []\n",
    "    # stores the last i in case the window exceeds the size of the sample\n",
    "    for i in range(0, len(data), factor):\n",
    "        # checks if i exceeds the sample size\n",
    "        if i + factor < len(data):\n",
    "            class_label = data[i][-1] # get the expected class lavel\n",
    "            if class_label == data[i + factor - 1][-1]: # if all the data belongs to one class\n",
    "            # adds the windowed sample \n",
    "                windowed.append(data[i: i + factor, :-1])\n",
    "                labels.append(class_label)\n",
    "            else:\n",
    "                continue     \n",
    "    return windowed, labels"
   ]
  },
  {
   "cell_type": "code",
   "execution_count": 18,
   "id": "c03a684e-8514-426e-8bfd-1ffc3176882e",
   "metadata": {
    "scrolled": true
   },
   "outputs": [],
   "source": [
    "windowed_samps = []\n",
    "val = 5\n",
    "for i in range(0,20):\n",
    "   windowSel(all_sub_info[1],val)\n",
    "    "
   ]
  },
  {
   "cell_type": "markdown",
   "id": "9c3137de-d3fc-40c4-80c2-59cd1d85bda1",
   "metadata": {},
   "source": [
    "# Compute Z score [Normalization] (importnat for methods like KNN, logistic regression, SVM and neural networks"
   ]
  },
  {
   "cell_type": "code",
   "execution_count": 20,
   "id": "ec08ccde-2963-465d-84d1-810912ea7444",
   "metadata": {},
   "outputs": [],
   "source": [
    "# data includes the features without the labels column\n",
    "def normalize_data(train_data, test_data):\n",
    "    X_train_scaled = scaler.fit_transform(train_data)\n",
    "    X_test_scaled = scaler.transform(test_data)\n",
    "    return X_train_scaled, X_test_scaled\n",
    "    \n",
    "        "
   ]
  },
  {
   "cell_type": "markdown",
   "id": "f039ebf0-4486-4980-a59e-73c04299c826",
   "metadata": {},
   "source": [
    "# Raw vs Filtered vs Normalized vs Filtered + Normalized"
   ]
  },
  {
   "cell_type": "code",
   "execution_count": 21,
   "id": "66978d3d-cf6c-48b8-ab5e-b114a6bad981",
   "metadata": {},
   "outputs": [],
   "source": [
    "# getting all the data we want"
   ]
  },
  {
   "cell_type": "markdown",
   "id": "12abe6ec-d885-4653-9947-023ae824c3ee",
   "metadata": {},
   "source": [
    "### Will eventually do this for all subjects"
   ]
  },
  {
   "cell_type": "code",
   "execution_count": 22,
   "id": "e6f9ddd5-8ccc-4ce5-8246-e48a36fc4af5",
   "metadata": {},
   "outputs": [],
   "source": [
    "i = 2\n",
    "data_dir = r\"non-eeg-dataset-for-assessment-of-neurological-status-1.0.0\"\n",
    "\n",
    "AccTempEDA_record = wfdb.rdrecord(fr\"{data_dir}\\Subject{i}_AccTempEDA\")\n",
    "Spo2HR_record = wfdb.rdrecord(fr\"{data_dir}\\Subject{i}_SpO2HR\")\n",
    "AccTempEDA_annotation = wfdb.rdann(fr\"{data_dir}\\Subject{i}_AccTempEDA\", 'atr')\n",
    "data = get_subject_data_preprocessed(AccTempEDA_record, Spo2HR_record, AccTempEDA_annotation)\n",
    "scaler = StandardScaler()\n",
    "data_scaled = scaler.fit_transform(data[:,:-1])\n"
   ]
  },
  {
   "cell_type": "markdown",
   "id": "55d06fda-493e-4da3-a21a-836eafcaebb2",
   "metadata": {},
   "source": [
    "## Least Squares"
   ]
  },
  {
   "cell_type": "code",
   "execution_count": 23,
   "id": "d48cd72a-5f21-4651-b1f7-f8b6b1df79ad",
   "metadata": {},
   "outputs": [],
   "source": [
    "# note this is for subject 1\n",
    "raw_data = get_subject_data_raw(AccTempEDA_record, Spo2HR_record, AccTempEDA_annotation)\n",
    "X, y = raw_data[:, :-1].astype(float), raw_data[:, -1] # splitting "
   ]
  },
  {
   "cell_type": "code",
   "execution_count": 38,
   "id": "15f31549-21c1-4c41-9928-04c448b1162c",
   "metadata": {},
   "outputs": [],
   "source": [
    "# cross validation to ensure results are more representative of the average performance"
   ]
  },
  {
   "cell_type": "code",
   "execution_count": 24,
   "id": "5f0afc25-ee4d-4dee-8166-c223d6681f78",
   "metadata": {},
   "outputs": [],
   "source": [
    "def leastSquares(X, y, norm = False):\n",
    "    skf = StratifiedKFold(n_splits=5)\n",
    "    # Prepare lists to store metrics for each fold\n",
    "    all_preds = []\n",
    "    all_true = []\n",
    "    for train_index, test_index in skf.split(X, y):\n",
    "        X_train, X_test = X[train_index], X[test_index]\n",
    "        y_train, y_test = y[train_index], y[test_index]\n",
    "\n",
    "        if(norm):\n",
    "            X_train, X_test = normalize_data(X_train, X_test)\n",
    "            \n",
    "        clf = RidgeClassifier(class_weight='balanced') # VERY important because of relax\n",
    "        clf.fit(X_train, y_train)\n",
    "        y_pred = clf.predict(X_test)\n",
    "        \n",
    "        # Collect predictions and true labels\n",
    "        all_preds.extend(y_pred)\n",
    "        all_true.extend(y_test)\n",
    "    \n",
    "    # Final combined classification report\n",
    "    print(classification_report(all_true, all_preds))"
   ]
  },
  {
   "cell_type": "markdown",
   "id": "f393d6fd-e325-4992-b021-21994be04eca",
   "metadata": {},
   "source": [
    "### Raw Data"
   ]
  },
  {
   "cell_type": "code",
   "execution_count": 25,
   "id": "c247486d-54a4-4b15-b6b6-76de5e384544",
   "metadata": {},
   "outputs": [
    {
     "name": "stdout",
     "output_type": "stream",
     "text": [
      "                 precision    recall  f1-score   support\n",
      "\n",
      "CognitiveStress       0.60      0.92      0.73       355\n",
      "EmotionalStress       0.24      0.45      0.32       408\n",
      " PhysicalStress       0.87      0.98      0.92       327\n",
      "          Relax       0.67      0.35      0.46      1200\n",
      "\n",
      "       accuracy                           0.55      2290\n",
      "      macro avg       0.60      0.67      0.61      2290\n",
      "   weighted avg       0.61      0.55      0.54      2290\n",
      "\n"
     ]
    }
   ],
   "source": [
    "raw_data = get_subject_data_raw(AccTempEDA_record, Spo2HR_record, AccTempEDA_annotation)\n",
    "X, y = raw_data[:, :-1].astype(float), raw_data[:, -1] # splitting \n",
    "leastSquares(X, y)"
   ]
  },
  {
   "cell_type": "markdown",
   "id": "dfbb91b1-ac70-4eb6-98ba-f4c02a7902d6",
   "metadata": {},
   "source": [
    "### Normalized"
   ]
  },
  {
   "cell_type": "code",
   "execution_count": 46,
   "id": "324836ab-2dd1-46ed-bde9-fb97f9f193c8",
   "metadata": {},
   "outputs": [
    {
     "name": "stdout",
     "output_type": "stream",
     "text": [
      "                 precision    recall  f1-score   support\n",
      "\n",
      "CognitiveStress       0.60      0.92      0.73       355\n",
      "EmotionalStress       0.24      0.45      0.31       408\n",
      " PhysicalStress       0.87      0.98      0.92       327\n",
      "          Relax       0.67      0.35      0.46      1200\n",
      "\n",
      "       accuracy                           0.54      2290\n",
      "      macro avg       0.60      0.67      0.60      2290\n",
      "   weighted avg       0.61      0.54      0.54      2290\n",
      "\n"
     ]
    }
   ],
   "source": [
    "leastSquares(X, y, True)"
   ]
  },
  {
   "cell_type": "markdown",
   "id": "10c85a3b-502b-4c61-8323-b491952719c1",
   "metadata": {},
   "source": [
    "### Filtered"
   ]
  },
  {
   "cell_type": "code",
   "execution_count": 42,
   "id": "a2008917-44f9-4249-9a03-fec7b3815939",
   "metadata": {},
   "outputs": [
    {
     "name": "stdout",
     "output_type": "stream",
     "text": [
      "                 precision    recall  f1-score   support\n",
      "\n",
      "CognitiveStress       0.60      0.92      0.72       355\n",
      "EmotionalStress       0.24      0.43      0.31       408\n",
      " PhysicalStress       0.87      0.98      0.92       327\n",
      "          Relax       0.67      0.36      0.47      1200\n",
      "\n",
      "       accuracy                           0.55      2290\n",
      "      macro avg       0.59      0.67      0.60      2290\n",
      "   weighted avg       0.61      0.55      0.54      2290\n",
      "\n"
     ]
    }
   ],
   "source": [
    "# note this is for subject 1\n",
    "filtered = get_subject_data_preprocessed(AccTempEDA_record, Spo2HR_record, AccTempEDA_annotation)\n",
    "X, y = filtered[:, :-1].astype(float), filtered[:, -1] # splitting \n",
    "leastSquares(X, y)"
   ]
  },
  {
   "cell_type": "markdown",
   "id": "c6e16259-10c1-438b-9819-aa47817245dc",
   "metadata": {},
   "source": [
    "### Filtered + Normalized"
   ]
  },
  {
   "cell_type": "code",
   "execution_count": 47,
   "id": "2dd4e182-11f8-4095-a8c3-b75b88ab4b2a",
   "metadata": {},
   "outputs": [
    {
     "name": "stdout",
     "output_type": "stream",
     "text": [
      "                 precision    recall  f1-score   support\n",
      "\n",
      "CognitiveStress       0.60      0.92      0.73       355\n",
      "EmotionalStress       0.24      0.45      0.31       408\n",
      " PhysicalStress       0.87      0.98      0.92       327\n",
      "          Relax       0.67      0.35      0.46      1200\n",
      "\n",
      "       accuracy                           0.54      2290\n",
      "      macro avg       0.60      0.67      0.60      2290\n",
      "   weighted avg       0.61      0.54      0.54      2290\n",
      "\n"
     ]
    }
   ],
   "source": [
    "leastSquares(X, y, True)"
   ]
  },
  {
   "cell_type": "markdown",
   "id": "c7b142d1",
   "metadata": {},
   "source": [
    "### KNN"
   ]
  },
  {
   "cell_type": "code",
   "execution_count": 33,
   "id": "0d1d11db-9cbf-4ece-b069-943b2cd9e82d",
   "metadata": {},
   "outputs": [],
   "source": [
    "# note this is for subject 1\n",
    "raw_data = get_subject_data_raw(AccTempEDA_record, Spo2HR_record, AccTempEDA_annotation)\n",
    "X, y = raw_data[:, :-1].astype(float), raw_data[:, -1] # splitting "
   ]
  },
  {
   "cell_type": "markdown",
   "id": "b464d59a",
   "metadata": {},
   "source": [
    "#### Raw Data KNN"
   ]
  },
  {
   "cell_type": "code",
   "execution_count": null,
   "id": "872c4574-d9c0-48b1-885f-beb4e06b60a7",
   "metadata": {},
   "outputs": [
    {
     "name": "stdout",
     "output_type": "stream",
     "text": [
      "The optimal K value is: 1\n",
      "Accuracy: 0.9737991266375546\n",
      "                 precision    recall  f1-score   support\n",
      "\n",
      "CognitiveStress       0.99      0.97      0.98        75\n",
      "EmotionalStress       0.96      0.93      0.95        84\n",
      " PhysicalStress       0.98      1.00      0.99        55\n",
      "          Relax       0.97      0.98      0.98       244\n",
      "\n",
      "       accuracy                           0.97       458\n",
      "      macro avg       0.98      0.97      0.97       458\n",
      "   weighted avg       0.97      0.97      0.97       458\n",
      "\n"
     ]
    }
   ],
   "source": [
    "X_train, X_test, y_train, y_test = train_test_split(X, y, test_size=0.2)\n",
    "\n",
    "knn = KNeighborsClassifier()\n",
    "param_grid = {'n_neighbors': range(1, 21)}\n",
    "grid_search = GridSearchCV(knn, param_grid, cv=5)\n",
    "grid_search.fit(X_train, y_train)\n",
    "\n",
    "optimal_k = grid_search.best_params_['n_neighbors']\n",
    "print(f\"The optimal K value is: {optimal_k}\")\n",
    "\n",
    "\n",
    "final_knn = KNeighborsClassifier(n_neighbors=optimal_k)\n",
    "final_knn.fit(X_train, y_train)\n",
    "y_pred = final_knn.predict(X_test)\n",
    "\n",
    "print(\"Accuracy:\", accuracy_score(y_test, y_pred))\n",
    "print(classification_report(y_test, y_pred))"
   ]
  },
  {
   "cell_type": "markdown",
   "id": "65a84f1f",
   "metadata": {},
   "source": [
    "#### Filtered+ Preproccesed Norm KNN"
   ]
  },
  {
   "cell_type": "code",
   "execution_count": 40,
   "id": "e7b1b215-c522-4c97-9f90-8223ec2a98fc",
   "metadata": {},
   "outputs": [],
   "source": [
    "filtered = get_subject_data_preprocessed(AccTempEDA_record, Spo2HR_record, AccTempEDA_annotation)\n",
    "X, y = filtered[:, :-1].astype(float), filtered[:, -1] # splitting \n"
   ]
  },
  {
   "cell_type": "code",
   "execution_count": 41,
   "id": "78cea2a5",
   "metadata": {},
   "outputs": [
    {
     "name": "stdout",
     "output_type": "stream",
     "text": [
      "The optimal K value is: 1\n",
      "Accuracy: 0.9978165938864629\n",
      "                 precision    recall  f1-score   support\n",
      "\n",
      "CognitiveStress       1.00      1.00      1.00        78\n",
      "EmotionalStress       0.99      1.00      0.99        70\n",
      " PhysicalStress       1.00      1.00      1.00        67\n",
      "          Relax       1.00      1.00      1.00       243\n",
      "\n",
      "       accuracy                           1.00       458\n",
      "      macro avg       1.00      1.00      1.00       458\n",
      "   weighted avg       1.00      1.00      1.00       458\n",
      "\n"
     ]
    }
   ],
   "source": [
    "X_train, X_test, y_train, y_test = train_test_split(X, y, test_size=0.2)\n",
    "\n",
    "scaler = StandardScaler()\n",
    "X_train = scaler.fit_transform(X_train)\n",
    "X_test = scaler.transform(X_test)\n",
    "\n",
    "\n",
    "knn = KNeighborsClassifier()\n",
    "param_grid = {'n_neighbors': range(1, 21)}\n",
    "grid_search = GridSearchCV(knn, param_grid, cv=5)\n",
    "grid_search.fit(X_train, y_train)\n",
    "\n",
    "optimal_k = grid_search.best_params_['n_neighbors']\n",
    "print(f\"The optimal K value is: {optimal_k}\")\n",
    "\n",
    "\n",
    "final_knn = KNeighborsClassifier(n_neighbors=optimal_k)\n",
    "final_knn.fit(X_train, y_train)\n",
    "y_pred = final_knn.predict(X_test)\n",
    "\n",
    "print(\"Accuracy:\", accuracy_score(y_test, y_pred))\n",
    "print(classification_report(y_test, y_pred))"
   ]
  }
 ],
 "metadata": {
  "kernelspec": {
   "display_name": "Python 3",
   "language": "python",
   "name": "python3"
  },
  "language_info": {
   "codemirror_mode": {
    "name": "ipython",
    "version": 3
   },
   "file_extension": ".py",
   "mimetype": "text/x-python",
   "name": "python",
   "nbconvert_exporter": "python",
   "pygments_lexer": "ipython3",
   "version": "3.13.0"
  }
 },
 "nbformat": 4,
 "nbformat_minor": 5
}
