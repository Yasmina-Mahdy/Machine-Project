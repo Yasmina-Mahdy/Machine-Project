{
 "cells": [
  {
   "cell_type": "code",
   "execution_count": 1,
   "id": "f67e01e8-9d70-4a16-b8b3-66b7e56ffa8f",
   "metadata": {},
   "outputs": [
    {
     "name": "stdout",
     "output_type": "stream",
     "text": [
      "Requirement already satisfied: wfdb in c:\\users\\ismai\\anaconda3\\lib\\site-packages (4.3.0)\n",
      "Requirement already satisfied: aiohttp>=3.10.11 in c:\\users\\ismai\\anaconda3\\lib\\site-packages (from wfdb) (3.11.18)\n",
      "Requirement already satisfied: fsspec>=2023.10.0 in c:\\users\\ismai\\anaconda3\\lib\\site-packages (from wfdb) (2024.6.1)\n",
      "Requirement already satisfied: matplotlib>=3.2.2 in c:\\users\\ismai\\anaconda3\\lib\\site-packages (from wfdb) (3.9.2)\n",
      "Requirement already satisfied: numpy>=1.26.4 in c:\\users\\ismai\\anaconda3\\lib\\site-packages (from wfdb) (1.26.4)\n",
      "Requirement already satisfied: pandas>=2.2.3 in c:\\users\\ismai\\anaconda3\\lib\\site-packages (from wfdb) (2.2.3)\n",
      "Requirement already satisfied: requests>=2.8.1 in c:\\users\\ismai\\anaconda3\\lib\\site-packages (from wfdb) (2.32.3)\n",
      "Requirement already satisfied: scipy>=1.13.0 in c:\\users\\ismai\\anaconda3\\lib\\site-packages (from wfdb) (1.13.1)\n",
      "Requirement already satisfied: soundfile>=0.10.0 in c:\\users\\ismai\\anaconda3\\lib\\site-packages (from wfdb) (0.13.1)\n",
      "Requirement already satisfied: aiohappyeyeballs>=2.3.0 in c:\\users\\ismai\\anaconda3\\lib\\site-packages (from aiohttp>=3.10.11->wfdb) (2.4.0)\n",
      "Requirement already satisfied: aiosignal>=1.1.2 in c:\\users\\ismai\\anaconda3\\lib\\site-packages (from aiohttp>=3.10.11->wfdb) (1.2.0)\n",
      "Requirement already satisfied: attrs>=17.3.0 in c:\\users\\ismai\\anaconda3\\lib\\site-packages (from aiohttp>=3.10.11->wfdb) (23.1.0)\n",
      "Requirement already satisfied: frozenlist>=1.1.1 in c:\\users\\ismai\\anaconda3\\lib\\site-packages (from aiohttp>=3.10.11->wfdb) (1.4.0)\n",
      "Requirement already satisfied: multidict<7.0,>=4.5 in c:\\users\\ismai\\anaconda3\\lib\\site-packages (from aiohttp>=3.10.11->wfdb) (6.0.4)\n",
      "Requirement already satisfied: propcache>=0.2.0 in c:\\users\\ismai\\anaconda3\\lib\\site-packages (from aiohttp>=3.10.11->wfdb) (0.3.1)\n",
      "Requirement already satisfied: yarl<2.0,>=1.17.0 in c:\\users\\ismai\\anaconda3\\lib\\site-packages (from aiohttp>=3.10.11->wfdb) (1.20.0)\n",
      "Requirement already satisfied: contourpy>=1.0.1 in c:\\users\\ismai\\anaconda3\\lib\\site-packages (from matplotlib>=3.2.2->wfdb) (1.2.0)\n",
      "Requirement already satisfied: cycler>=0.10 in c:\\users\\ismai\\anaconda3\\lib\\site-packages (from matplotlib>=3.2.2->wfdb) (0.11.0)\n",
      "Requirement already satisfied: fonttools>=4.22.0 in c:\\users\\ismai\\anaconda3\\lib\\site-packages (from matplotlib>=3.2.2->wfdb) (4.51.0)\n",
      "Requirement already satisfied: kiwisolver>=1.3.1 in c:\\users\\ismai\\anaconda3\\lib\\site-packages (from matplotlib>=3.2.2->wfdb) (1.4.4)\n",
      "Requirement already satisfied: packaging>=20.0 in c:\\users\\ismai\\anaconda3\\lib\\site-packages (from matplotlib>=3.2.2->wfdb) (24.1)\n",
      "Requirement already satisfied: pillow>=8 in c:\\users\\ismai\\anaconda3\\lib\\site-packages (from matplotlib>=3.2.2->wfdb) (10.4.0)\n",
      "Requirement already satisfied: pyparsing>=2.3.1 in c:\\users\\ismai\\anaconda3\\lib\\site-packages (from matplotlib>=3.2.2->wfdb) (3.1.2)\n",
      "Requirement already satisfied: python-dateutil>=2.7 in c:\\users\\ismai\\anaconda3\\lib\\site-packages (from matplotlib>=3.2.2->wfdb) (2.9.0.post0)\n",
      "Requirement already satisfied: pytz>=2020.1 in c:\\users\\ismai\\anaconda3\\lib\\site-packages (from pandas>=2.2.3->wfdb) (2024.1)\n",
      "Requirement already satisfied: tzdata>=2022.7 in c:\\users\\ismai\\anaconda3\\lib\\site-packages (from pandas>=2.2.3->wfdb) (2023.3)\n",
      "Requirement already satisfied: charset-normalizer<4,>=2 in c:\\users\\ismai\\anaconda3\\lib\\site-packages (from requests>=2.8.1->wfdb) (3.3.2)\n",
      "Requirement already satisfied: idna<4,>=2.5 in c:\\users\\ismai\\anaconda3\\lib\\site-packages (from requests>=2.8.1->wfdb) (3.7)\n",
      "Requirement already satisfied: urllib3<3,>=1.21.1 in c:\\users\\ismai\\anaconda3\\lib\\site-packages (from requests>=2.8.1->wfdb) (2.2.3)\n",
      "Requirement already satisfied: certifi>=2017.4.17 in c:\\users\\ismai\\anaconda3\\lib\\site-packages (from requests>=2.8.1->wfdb) (2024.12.14)\n",
      "Requirement already satisfied: cffi>=1.0 in c:\\users\\ismai\\anaconda3\\lib\\site-packages (from soundfile>=0.10.0->wfdb) (1.17.1)\n",
      "Requirement already satisfied: pycparser in c:\\users\\ismai\\anaconda3\\lib\\site-packages (from cffi>=1.0->soundfile>=0.10.0->wfdb) (2.21)\n",
      "Requirement already satisfied: six>=1.5 in c:\\users\\ismai\\anaconda3\\lib\\site-packages (from python-dateutil>=2.7->matplotlib>=3.2.2->wfdb) (1.16.0)\n",
      "Note: you may need to restart the kernel to use updated packages.\n"
     ]
    }
   ],
   "source": [
    "pip install wfdb"
   ]
  },
  {
   "cell_type": "code",
   "execution_count": 2,
   "id": "b136a408",
   "metadata": {},
   "outputs": [],
   "source": [
    "import os\n",
    "import csv\n",
    "import numpy as np\n",
    "import matplotlib.pyplot as plt\n",
    "import seaborn as sns\n",
    "import wfdb\n",
    "from scipy.ndimage import gaussian_filter1d\n",
    "from scipy.signal import medfilt\n",
    "from sklearn.preprocessing import StandardScaler\n",
    "from sklearn.model_selection import train_test_split, StratifiedKFold, GridSearchCV\n",
    "from sklearn.linear_model import RidgeClassifier\n",
    "from sklearn.neighbors import KNeighborsClassifier\n",
    "from sklearn.discriminant_analysis import LinearDiscriminantAnalysis\n",
    "from sklearn.naive_bayes import GaussianNB\n",
    "from sklearn.metrics import (accuracy_score, precision_score, recall_score, \n",
    "                             f1_score, confusion_matrix, classification_report)\n",
    "from sklearn.ensemble import RandomForestClassifier"
   ]
  },
  {
   "cell_type": "code",
   "execution_count": 3,
   "id": "df494514",
   "metadata": {
    "scrolled": true
   },
   "outputs": [],
   "source": [
    "data_list=[] #takes all the subjects \n",
    "directory=\"non-eeg-dataset-for-assessment-of-neurological-status-1.0.0\" # directory to all the files ATR, DAT, HEA\n",
    "csv_path = os.path.join(directory, 'subjectinfo.csv') \n",
    "for i in range(1,21):\n",
    "    ACCTEMPEDA_Path = os.path.join(directory, f'Subject{i}_AccTempEDA') \n",
    "    SPO2HR_Path = os.path.join(directory, f'Subject{i}_SpO2HR') \n",
    "\n",
    "    ACCTEMPEDA_Record = wfdb.rdrecord(ACCTEMPEDA_Path) #  rdrecord read .dat and .hea file\n",
    "    SPO2HR_Record = wfdb.rdrecord(SPO2HR_Path) \n",
    "    annotations = wfdb.rdann(ACCTEMPEDA_Path, 'atr') # rdann reads .atr file\n",
    "\n",
    "    # ACCTEMPEDA_DownSampled = downsample_by_averaging(ACCTEMPEDA_Record.p_signal, 8) # downsample ACCTEMP EDA as it is 8 HZ\n",
    "    # ACCTEMPEDA_DownSampled_Record = wfdb.Record(\n",
    "    #     record_name=f'Subject{i}_AccTempEDA_DownSampled', \n",
    "    #     p_signal=ACCTEMPEDA_DownSampled, \n",
    "    #     fs=1,\n",
    "    #     sig_name=ACCTEMPEDA_Record.sig_name,\n",
    "    #     units=ACCTEMPEDA_Record.units        \n",
    "    # )\n",
    "    with open(csv_path, newline='') as csvfile:\n",
    "        reader = csv.DictReader(csvfile)\n",
    "        for row in reader:\n",
    "            if int(row['subject']) == i:\n",
    "                data_list.append({\n",
    "                    'subject_id': i,\n",
    "                    'acc_temp_eda': ACCTEMPEDA_Record,\n",
    "                    'spo2_hr': SPO2HR_Record,\n",
    "                    'annotations': annotations,\n",
    "                    'age': int(row['age']),\n",
    "                    'gender': row['gender'],\n",
    "                    'height_cm': int(row['height/cm']),\n",
    "                    'weight_kg': int(row['weight/kg'])\n",
    "                })\n",
    "                #print(f\"Subject {i} Metadata:\")\n",
    "                #print(f\"  Age: {int(row['age'])}\")\n",
    "                #print(f\"  Gender: {row['gender']}\")\n",
    "                #print(f\"  Height (cm): {int(row['height/cm'])}\")\n",
    "                #print(f\"  Weight (kg): {int(row['weight/kg'])}\")\n",
    "                "
   ]
  },
  {
   "cell_type": "code",
   "execution_count": 4,
   "id": "cc7c32f8-8b08-440d-ad1e-21ddc69f7177",
   "metadata": {},
   "outputs": [
    {
     "name": "stdout",
     "output_type": "stream",
     "text": [
      "[[ 0.96997131 -0.67005829 -0.07004547 28.70009461  0.81804387]\n",
      " [ 0.96997131 -0.6800177  -0.07004547 28.90009461  0.81804387]\n",
      " [ 0.97998291 -0.67005829 -0.07004547 28.90009461  0.81601674]\n",
      " ...\n",
      " [ 1.0199881  -0.55000336 -0.21004151 32.9         0.64901976]\n",
      " [ 1.02999969 -0.55000336 -0.21004151 32.9         0.64901976]\n",
      " [ 1.0199881  -0.55000336 -0.21004151 32.9         0.64901976]]\n"
     ]
    }
   ],
   "source": [
    "sub = data_list[1]\n",
    "#print()\n",
    "print(sub['acc_temp_eda'].p_signal)"
   ]
  },
  {
   "cell_type": "code",
   "execution_count": 5,
   "id": "be9f923d",
   "metadata": {},
   "outputs": [
    {
     "data": {
      "image/png": "[encoded data removed]",
      "text/plain": [
       "<Figure size 640x480 with 5 Axes>"
      ]
     },
     "metadata": {},
     "output_type": "display_data"
    },
    {
     "data": {
      "image/png": "[encoded data removed]",
      "text/plain": [
       "<Figure size 640x480 with 2 Axes>"
      ]
     },
     "metadata": {},
     "output_type": "display_data"
    }
   ],
   "source": [
    "subject = data_list[1]  \n",
    "wfdb.plot_wfdb( record=subject['acc_temp_eda'], annotation=subject['annotations'], time_units='minutes', title='Subject 1 - Downsampled AccTempEDA (1Hz)')\n",
    "wfdb.plot_wfdb( record=subject['spo2_hr'], annotation=subject['annotations'], time_units='minutes', title='Subject 1 - SpO2HR Signals')"
   ]
  },
  {
   "cell_type": "markdown",
   "id": "51c0c221-d3cc-4263-8a69-d33b0df9ed57",
   "metadata": {},
   "source": [
    "# Extracting and Combining Data by Class"
   ]
  },
  {
   "cell_type": "markdown",
   "id": "3537a7a5-41a3-46ce-a6f2-79413b897c93",
   "metadata": {},
   "source": [
    "## Utility functions"
   ]
  },
  {
   "cell_type": "code",
   "execution_count": 6,
   "id": "f43c655a-f58d-4e41-9fc7-9e1eea7aa5f8",
   "metadata": {},
   "outputs": [],
   "source": [
    "# extract the ranges of each stage from their annotation\n",
    "def get_stages(annotation, size):\n",
    "    stages = []\n",
    "    for i, (samp, note) in enumerate(zip(annotation.sample, annotation.aux_note)):\n",
    "        stages.append({\"Label\" : note, \"start\": samp, \"end\": 0}) # dummy end\n",
    "    \n",
    "    for i in range((len(stages) - 1)):\n",
    "        stages[i][\"end\"] = stages[i+1][\"start\"] # each stages end is the next one's beginning\n",
    "    stages[-1][\"end\"] = size # set the end of last stage as the length of the data\n",
    "\n",
    "    return stages  "
   ]
  },
  {
   "cell_type": "code",
   "execution_count": 7,
   "id": "e4412628-2f72-4c72-89e4-cbf4b1e7d0f7",
   "metadata": {},
   "outputs": [],
   "source": [
    "# find label of a data point at a given index based on the ranges of each stage\n",
    "def find_label(stages, index):\n",
    "    for stage in stages:\n",
    "        if index >= stage['start'] and index < stage['end']:\n",
    "            return stage[\"Label\"]\n",
    "    return \"Unknown\""
   ]
  },
  {
   "cell_type": "code",
   "execution_count": 8,
   "id": "6dc20640-9afa-4d12-bc1c-a99e043a3a90",
   "metadata": {},
   "outputs": [],
   "source": [
    "# label the AccTempEDA data\n",
    "def extract_labeled_AccTempEDA(record, annotation):\n",
    "    stages = get_stages(annotation, record.p_signal.shape[0]) # get the range for each stage\n",
    "    data = record.p_signal # extract the data into a numpy array\n",
    "    labels = [] # array to store the labels corresponding to each data point in the record\n",
    "    for idx, entry in enumerate(data): # loop over all the data\n",
    "        labels.append((find_label(stages, idx))) # find the label based on the points index\n",
    "    labeled_data = np.column_stack((data, labels)) # append the labels column to the data \n",
    "    return labeled_data # return the labeled data"
   ]
  },
  {
   "cell_type": "code",
   "execution_count": 9,
   "id": "a9ec0707-8dc6-487b-a76a-f8b7b58ff552",
   "metadata": {},
   "outputs": [],
   "source": [
    "# downsample by averaging BUT make sure you stay within a given class\n",
    "def downsample_by_averaging(data, factor):\n",
    "    downsampled_data = []\n",
    "    i = 0\n",
    "    while i + factor <= len(data): # cannot use for (range) as we may need to update i\n",
    "        class_label = data[i][-1] # get the expected class lavel\n",
    "        if class_label == data[i + factor - 1][-1]: # if all the data belongs to one class\n",
    "            chunk = data[i: i + factor, :-1].astype(float) # extract a chunk (ignore last column [label] to average and cast to float to counter the upcasting when we added the label)\n",
    "            avg_chunk = np.mean(chunk, axis=0)\n",
    "            downsampled_data.append(np.append(avg_chunk, class_label))  # avg of each column while adding back the label\n",
    "            i += factor\n",
    "        else: # we have crossed into a new class, need to reset i to beginning of the new class\n",
    "            for j in range(i + 1, i + factor):\n",
    "                if data[j-1][-1] != data[j][-1]: # if data at index j has a different class from the one before it, update i and break\n",
    "                    i = j\n",
    "                    break\n",
    "                    \n",
    "    return np.array(downsampled_data)"
   ]
  },
  {
   "cell_type": "code",
   "execution_count": 10,
   "id": "33a01bc0-5b4c-4c14-bfaf-1c059177d7e8",
   "metadata": {},
   "outputs": [],
   "source": [
    "# combine AccTempEDA and Spo2HR data while truncating them to be of the same length\n",
    "# CRUCIAL but naive assumption! time stamps match after downsampling (technically incorrect)\n",
    "def combine(AccTempEDA, Spo2HR):\n",
    "    min_length = min(len(AccTempEDA), len(Spo2HR)) # finds the minimum length to align the points properly\n",
    "\n",
    "    # concatenate the truncated columns from AccTempEDA with those from Spo2HR and add the labels at the end\n",
    "    combined_data = np.column_stack((AccTempEDA[:min_length, :-1], Spo2HR[:min_length], AccTempEDA[:min_length, -1:]))\n",
    "\n",
    "    return combined_data"
   ]
  },
  {
   "cell_type": "code",
   "execution_count": 11,
   "id": "a60d0695",
   "metadata": {},
   "outputs": [],
   "source": [
    "def balance_classes(combined_data):\n",
    "    balanced_data = []\n",
    "    relaxed = False\n",
    "    for data in combined_data:\n",
    "        if data[-1] != \"Relax\": # we've passed the first relax\n",
    "            relaxed = True\n",
    "            balanced_data.append(data)\n",
    "        elif not relaxed:\n",
    "            balanced_data.append(data)\n",
    "    return np.array(balanced_data)"
   ]
  },
  {
   "cell_type": "markdown",
   "id": "3f73be24-0eed-4023-9901-125fd8e1ac42",
   "metadata": {},
   "source": [
    "# Extracting Raw and Preprocessed data"
   ]
  },
  {
   "cell_type": "code",
   "execution_count": 12,
   "id": "0039b668-b876-43da-ab90-04455083d0c4",
   "metadata": {},
   "outputs": [],
   "source": [
    "# val is 1 incase labels are included 0 otherwise \n",
    "def preprocess(wavevec):\n",
    "    final_vec = [] # stores the filtered signals\n",
    "    for i in range(0,len(wavevec[0])): # goes through each point in the signal\n",
    "        one_col = [wavevec[s][i].astype(float) for s in range(0,len(wavevec))] # filters column by column\n",
    "        one_col = medfilt(one_col, kernel_size=9) # filtering each column\n",
    "        if i == 0:\n",
    "            final_vec = one_col\n",
    "        else:\n",
    "            final_vec = np.column_stack((final_vec, one_col))\n",
    "    return final_vec"
   ]
  },
  {
   "cell_type": "code",
   "execution_count": 13,
   "id": "096c06d3-a103-4f51-860b-018043175c4b",
   "metadata": {},
   "outputs": [],
   "source": [
    "# get the full data for each subject\n",
    "def get_subject_data_preprocessed(AccTempEDA_record, Spo2HR_record, AccTempEDA_annotation):\n",
    "    AccTempEDA_record.p_signal = preprocess(AccTempEDA_record.p_signal)\n",
    "    AccTempEDA = extract_labeled_AccTempEDA(AccTempEDA_record, AccTempEDA_annotation) # extract and label AccTempEDA record\n",
    "    #print(AccTempEDA[3000])\n",
    "    AccTempEDA = downsample_by_averaging(AccTempEDA, 8) # downsample to match the other Spo2HR's rate\n",
    "    Spo2HR = preprocess(Spo2HR_record.p_signal) # extract Spo2HR record\n",
    "    #print(Spo2HR.shape)\n",
    "    combined_data = combine(AccTempEDA, Spo2HR) # combine both records\n",
    "    #print(len(combined_data))\n",
    "    return combined_data # return the resulting data"
   ]
  },
  {
   "cell_type": "code",
   "execution_count": 14,
   "id": "296cfbde-f324-4d4b-b04b-6510daf0d64c",
   "metadata": {},
   "outputs": [],
   "source": [
    "def get_subject_data_raw(AccTempEDA_record, Spo2HR_record, AccTempEDA_annotation):\n",
    "    AccTempEDA = extract_labeled_AccTempEDA(AccTempEDA_record, AccTempEDA_annotation) # extract and label AccTempEDA record\n",
    "    #print(AccTempEDA[3000])\n",
    "    #print(AccTempEDA)\n",
    "    AccTempEDA = downsample_by_averaging(AccTempEDA, 8) # downsample to match the other Spo2HR's rate\n",
    "    Spo2HR = Spo2HR_record.p_signal # extract Spo2HR record\n",
    "    #print(Spo2HR.shape)\n",
    "    combined_data = combine(AccTempEDA, Spo2HR) # combine both records\n",
    "    #print(len(combined_data))\n",
    "    return combined_data # return the resulting data"
   ]
  },
  {
   "cell_type": "code",
   "execution_count": 15,
   "id": "00581628",
   "metadata": {},
   "outputs": [],
   "source": [
    "def get_subject_data_raw_balanced(AccTempEDA_record, Spo2HR_record, AccTempEDA_annotation):\n",
    "    AccTempEDA = extract_labeled_AccTempEDA(AccTempEDA_record, AccTempEDA_annotation) # extract and label AccTempEDA record\n",
    "    #print(AccTempEDA[3000])\n",
    "    #print(AccTempEDA)\n",
    "    AccTempEDA = downsample_by_averaging(AccTempEDA, 8) # downsample to match the other Spo2HR's rate\n",
    "    Spo2HR = Spo2HR_record.p_signal # extract Spo2HR record\n",
    "    #print(Spo2HR.shape)\n",
    "    combined_data = combine(AccTempEDA, Spo2HR) # combine both records\n",
    "    balanced_data = balance_classes(combined_data)\n",
    "    return balanced_data # return the resulting data"
   ]
  },
  {
   "cell_type": "code",
   "execution_count": 16,
   "id": "88929d03",
   "metadata": {},
   "outputs": [],
   "source": [
    "def get_subject_data_preprocessed_balanced(AccTempEDA_record, Spo2HR_record, AccTempEDA_annotation):\n",
    "    AccTempEDA_record.p_signal = preprocess(AccTempEDA_record.p_signal)\n",
    "    AccTempEDA = extract_labeled_AccTempEDA(AccTempEDA_record, AccTempEDA_annotation) # extract and label AccTempEDA record\n",
    "    #print(AccTempEDA[3000])\n",
    "    AccTempEDA = downsample_by_averaging(AccTempEDA, 8) # downsample to match the other Spo2HR's rate\n",
    "    Spo2HR = preprocess(Spo2HR_record.p_signal) # extract Spo2HR record\n",
    "    #print(Spo2HR.shape)\n",
    "    combined_data = combine(AccTempEDA, Spo2HR) # combine both records\n",
    "    balanced_data = balance_classes(combined_data)\n",
    "    return balanced_data # return the resulting data"
   ]
  },
  {
   "cell_type": "markdown",
   "id": "679a1c61-e23a-4fab-b308-ed091c60f757",
   "metadata": {},
   "source": [
    "# Function to read and get raw data for all subjects and store them in csvs"
   ]
  },
  {
   "cell_type": "code",
   "execution_count": 17,
   "id": "3ec1f124-548c-478e-a10f-f2e82f152c64",
   "metadata": {
    "scrolled": true
   },
   "outputs": [],
   "source": [
    "read_directory=\"non-eeg-dataset-for-assessment-of-neurological-status-1.0.0\" # directory to all the files ATR, DAT, HEA\n",
    "type = \"Preprocessed\"\n",
    "write_directory= f\"Subject Data {type}\"\n",
    "all_sub_info = []\n",
    "for i in range(1,21):\n",
    "    csv_path = os.path.join(write_directory, f'subject_{i}_data_{type}.csv')\n",
    "    ACCTEMPEDA_Path = os.path.join(read_directory, f'Subject{i}_AccTempEDA') \n",
    "    SPO2HR_Path = os.path.join(read_directory, f'Subject{i}_SpO2HR') \n",
    "\n",
    "    ACCTEMPEDA_Record = wfdb.rdrecord(ACCTEMPEDA_Path) #  rdrecord read .dat and .hea file\n",
    "    SPO2HR_Record = wfdb.rdrecord(SPO2HR_Path) \n",
    "    annotations = wfdb.rdann(ACCTEMPEDA_Path, 'atr') # rdann reads .atr file\n",
    "    subject_data = get_subject_data_preprocessed(ACCTEMPEDA_Record, SPO2HR_Record, annotations)\n",
    "    all_sub_info.append(subject_data)\n",
    "    # #print(f'subject{i}: {len(subject_data)}') \n",
    "    # with open(csv_path, mode='w', newline='') as csvfile:\n",
    "    #     writer = csv.writer(csvfile)\n",
    "    #     # Write headers\n",
    "    #     writer.writerow(['ax', 'ay', 'az', 'temp', 'EDA', 'SpO2', 'HR', 'label'])\n",
    "    #     # Write each row of subject data\n",
    "    #     for row in subject_data:\n",
    "    #         writer.writerow(row)"
   ]
  },
  {
   "cell_type": "code",
   "execution_count": 18,
   "id": "33f91fcb-49f6-4018-a334-83df44c77e6c",
   "metadata": {},
   "outputs": [
    {
     "data": {
      "text/plain": [
       "20"
      ]
     },
     "execution_count": 18,
     "metadata": {},
     "output_type": "execute_result"
    }
   ],
   "source": [
    "len(all_sub_info)"
   ]
  },
  {
   "cell_type": "markdown",
   "id": "a2278251-b505-429e-8e58-7c327c8cc6b3",
   "metadata": {},
   "source": [
    "# Function to get the data in the desired window sizes"
   ]
  },
  {
   "cell_type": "code",
   "execution_count": 19,
   "id": "628bdb47-4077-4cf8-8ef3-bac042affb30",
   "metadata": {},
   "outputs": [],
   "source": [
    "def window_data(data, factor):\n",
    "    windowed_data = []\n",
    "    labels = []\n",
    "    i = 0\n",
    "    while i + factor <= len(data): # cannot use for (range) as we may need to update i\n",
    "        class_label = data[i][-1] # get the expected class lavel\n",
    "        if class_label == data[i + factor - 1][-1]: # if all the data belongs to one class\n",
    "            chunk = data[i: i + factor, : -1] # extract a chunk (ignore last column [label] to average and cast to float to counter the upcasting when we added the label)\n",
    "            windowed_data.append(chunk)  # avg of each column while adding back the label\n",
    "            labels.append(class_label)\n",
    "            i += factor\n",
    "        else: # we have crossed into a new class, need to reset i to beginning of the new class\n",
    "            for j in range(i + 1, i + factor):\n",
    "                if data[j-1][-1] != data[j][-1]: # if data at index j has a different class from the one before it, update i and break\n",
    "                    i = j\n",
    "                    break\n",
    "    # flatten the windows\n",
    "\n",
    "    windowed_data = [window.flatten() for window in windowed_data]\n",
    "                    \n",
    "    return np.array(windowed_data).astype(float), np.array(labels)"
   ]
  },
  {
   "cell_type": "markdown",
   "id": "9c3137de-d3fc-40c4-80c2-59cd1d85bda1",
   "metadata": {},
   "source": [
    "# Compute Z score [Normalization] (importnat for methods like KNN, logistic regression, SVM and neural networks"
   ]
  },
  {
   "cell_type": "code",
   "execution_count": 20,
   "id": "ec08ccde-2963-465d-84d1-810912ea7444",
   "metadata": {},
   "outputs": [],
   "source": [
    "def normalize_data(train_data, test_data):\n",
    "    scaler = StandardScaler()\n",
    "    X_train_scaled = scaler.fit_transform(train_data)\n",
    "    X_test_scaled = scaler.transform(test_data)\n",
    "    return X_train_scaled, X_test_scaled\n",
    "    "
   ]
  },
  {
   "cell_type": "markdown",
   "id": "f039ebf0-4486-4980-a59e-73c04299c826",
   "metadata": {},
   "source": [
    "# Getting Data Raw, Preprocessed (Balanced and Unbalanced)"
   ]
  },
  {
   "cell_type": "code",
   "execution_count": 21,
   "id": "e6f9ddd5-8ccc-4ce5-8246-e48a36fc4af5",
   "metadata": {},
   "outputs": [],
   "source": [
    "data_dir = r\"non-eeg-dataset-for-assessment-of-neurological-status-1.0.0\"\n",
    "all_preprocessed_data_balanced=[]\n",
    "all_preprocessed_data=[]\n",
    "all_raw_data_balanced=[]\n",
    "all_raw_data=[]\n",
    "for i in range(1, 21):\n",
    "    AccTempEDA_record = wfdb.rdrecord(fr\"{data_dir}\\Subject{i}_AccTempEDA\")\n",
    "    Spo2HR_record = wfdb.rdrecord(fr\"{data_dir}\\Subject{i}_SpO2HR\")\n",
    "    AccTempEDA_annotation = wfdb.rdann(fr\"{data_dir}\\Subject{i}_AccTempEDA\", 'atr')\n",
    "    \n",
    "    data = get_subject_data_preprocessed(AccTempEDA_record, Spo2HR_record, AccTempEDA_annotation)\n",
    "    raw_data = get_subject_data_raw(AccTempEDA_record, Spo2HR_record, AccTempEDA_annotation)\n",
    "    data_balanced = get_subject_data_preprocessed_balanced(AccTempEDA_record, Spo2HR_record, AccTempEDA_annotation)\n",
    "    raw_data_balanced = get_subject_data_raw_balanced(AccTempEDA_record, Spo2HR_record, AccTempEDA_annotation)\n",
    "    \n",
    "    all_preprocessed_data.append(data)\n",
    "    all_raw_data.append(raw_data)\n",
    "    all_preprocessed_data_balanced.append(data_balanced)\n",
    "    all_raw_data_balanced.append(raw_data_balanced)"
   ]
  },
  {
   "cell_type": "markdown",
   "id": "55d06fda-493e-4da3-a21a-836eafcaebb2",
   "metadata": {},
   "source": [
    "## Least Squares"
   ]
  },
  {
   "cell_type": "code",
   "execution_count": 22,
   "id": "5f0afc25-ee4d-4dee-8166-c223d6681f78",
   "metadata": {},
   "outputs": [],
   "source": [
    "def least_squared_all_subs(data, norm=False, window=1):\n",
    "    precision_list_squares = []\n",
    "    recall_list_squares = []\n",
    "    f1_list_squares = []\n",
    "    accuracy_list_squares = []\n",
    "\n",
    "    for i in range(1, 21):\n",
    "        if window == 1:\n",
    "            X, y = data[i - 1][:, :-1].astype(float), data[i - 1][:, -1]\n",
    "        else:\n",
    "            X, y = window_data(data[i - 1], window)\n",
    "        \n",
    "        skf = StratifiedKFold(n_splits=5, shuffle=True, random_state=42)\n",
    "        all_preds = []\n",
    "        all_true = []\n",
    "        \n",
    "        for train_index, test_index in skf.split(X, y):\n",
    "            X_train, X_test = X[train_index], X[test_index]\n",
    "            y_train, y_test = y[train_index], y[test_index]\n",
    "\n",
    "            if norm:\n",
    "                X_train, X_test = normalize_data(X_train, X_test)\n",
    "\n",
    "            clf = RidgeClassifier()\n",
    "            clf.fit(X_train, y_train)\n",
    "            y_pred = clf.predict(X_test)\n",
    "\n",
    "            all_preds.extend(y_pred)\n",
    "            all_true.extend(y_test)\n",
    "\n",
    "        report_dict = classification_report(all_true, all_preds, output_dict=True, zero_division=0)\n",
    "        macro_avg = report_dict['macro avg']\n",
    "        accuracy = report_dict['accuracy']\n",
    "\n",
    "        avg_precision = macro_avg['precision']\n",
    "        avg_recall = macro_avg['recall']\n",
    "        avg_f1_score = macro_avg['f1-score']\n",
    "\n",
    "        precision_list_squares.append(avg_precision)\n",
    "        recall_list_squares.append(avg_recall)\n",
    "        f1_list_squares.append(avg_f1_score)\n",
    "        accuracy_list_squares.append(accuracy)\n",
    "\n",
    "    overall_avg_precision_squares = sum(precision_list_squares) / len(precision_list_squares)\n",
    "    overall_avg_recall_squares = sum(recall_list_squares) / len(recall_list_squares)\n",
    "    overall_avg_f1_squares = sum(f1_list_squares) / len(f1_list_squares)\n",
    "    overall_avg_accuracy_squares = sum(accuracy_list_squares) / len(accuracy_list_squares)\n",
    "\n",
    "    print(\"Overall averages for 20 subjects with Least Squares classifier:\")\n",
    "    print(f\"Average Accuracy: {overall_avg_accuracy_squares:.3f}\")\n",
    "    print(f\"Average Precision: {overall_avg_precision_squares:.3f}\")\n",
    "    print(f\"Average Recall: {overall_avg_recall_squares:.3f}\")\n",
    "    print(f\"Average F1-Score: {overall_avg_f1_squares:.3f}\")\n"
   ]
  },
  {
   "cell_type": "markdown",
   "id": "f393d6fd-e325-4992-b021-21994be04eca",
   "metadata": {},
   "source": [
    "### Least Squares on Raw Data (Unbalanced)"
   ]
  },
  {
   "cell_type": "code",
   "execution_count": 23,
   "id": "c247486d-54a4-4b15-b6b6-76de5e384544",
   "metadata": {},
   "outputs": [
    {
     "name": "stdout",
     "output_type": "stream",
     "text": [
      "Overall averages for 20 subjects with Least Squares classifier:\n",
      "Average Accuracy: 0.865\n",
      "Average Precision: 0.881\n",
      "Average Recall: 0.820\n",
      "Average F1-Score: 0.825\n"
     ]
    }
   ],
   "source": [
    "least_squared_all_subs(all_raw_data, norm = False)"
   ]
  },
  {
   "cell_type": "markdown",
   "id": "dfbb91b1-ac70-4eb6-98ba-f4c02a7902d6",
   "metadata": {},
   "source": [
    "### Least Squares on Raw Data (Balanced)"
   ]
  },
  {
   "cell_type": "code",
   "execution_count": 24,
   "id": "324836ab-2dd1-46ed-bde9-fb97f9f193c8",
   "metadata": {},
   "outputs": [
    {
     "name": "stdout",
     "output_type": "stream",
     "text": [
      "Overall averages for 20 subjects with Least Squares classifier:\n",
      "Average Accuracy: 0.938\n",
      "Average Precision: 0.943\n",
      "Average Recall: 0.942\n",
      "Average F1-Score: 0.941\n"
     ]
    }
   ],
   "source": [
    "least_squared_all_subs(all_raw_data_balanced, norm = False)"
   ]
  },
  {
   "cell_type": "markdown",
   "id": "c6e16259-10c1-438b-9819-aa47817245dc",
   "metadata": {},
   "source": [
    "### Least Squares on Preprocessed (Unbalanced)"
   ]
  },
  {
   "cell_type": "code",
   "execution_count": 25,
   "id": "2dd4e182-11f8-4095-a8c3-b75b88ab4b2a",
   "metadata": {},
   "outputs": [
    {
     "name": "stdout",
     "output_type": "stream",
     "text": [
      "Overall averages for 20 subjects with Least Squares classifier:\n",
      "Average Accuracy: 0.866\n",
      "Average Precision: 0.878\n",
      "Average Recall: 0.823\n",
      "Average F1-Score: 0.828\n"
     ]
    }
   ],
   "source": [
    "least_squared_all_subs(all_preprocessed_data, norm = True)"
   ]
  },
  {
   "cell_type": "markdown",
   "id": "84b40428",
   "metadata": {},
   "source": [
    "### Least Squares on Preprocessed (Balanced)"
   ]
  },
  {
   "cell_type": "code",
   "execution_count": 26,
   "id": "e76e3056",
   "metadata": {},
   "outputs": [
    {
     "name": "stdout",
     "output_type": "stream",
     "text": [
      "Overall averages for 20 subjects with Least Squares classifier:\n",
      "Average Accuracy: 0.945\n",
      "Average Precision: 0.948\n",
      "Average Recall: 0.949\n",
      "Average F1-Score: 0.947\n"
     ]
    }
   ],
   "source": [
    "least_squared_all_subs(all_preprocessed_data_balanced, norm = True)"
   ]
  },
  {
   "cell_type": "markdown",
   "id": "042eac4b",
   "metadata": {},
   "source": [
    "### Windows 1,5,10,15"
   ]
  },
  {
   "cell_type": "code",
   "execution_count": 27,
   "id": "798ce8fb",
   "metadata": {},
   "outputs": [
    {
     "name": "stdout",
     "output_type": "stream",
     "text": [
      "Window 1\n",
      "Overall averages for 20 subjects with Least Squares classifier:\n",
      "Average Accuracy: 0.945\n",
      "Average Precision: 0.948\n",
      "Average Recall: 0.949\n",
      "Average F1-Score: 0.947\n",
      "Window 5\n",
      "Overall averages for 20 subjects with Least Squares classifier:\n",
      "Average Accuracy: 0.935\n",
      "Average Precision: 0.938\n",
      "Average Recall: 0.940\n",
      "Average F1-Score: 0.937\n",
      "Window 10\n",
      "Overall averages for 20 subjects with Least Squares classifier:\n",
      "Average Accuracy: 0.927\n",
      "Average Precision: 0.932\n",
      "Average Recall: 0.934\n",
      "Average F1-Score: 0.930\n",
      "Window 15\n",
      "Overall averages for 20 subjects with Least Squares classifier:\n",
      "Average Accuracy: 0.920\n",
      "Average Precision: 0.925\n",
      "Average Recall: 0.924\n",
      "Average F1-Score: 0.922\n"
     ]
    }
   ],
   "source": [
    "print(\"Window 1\")\n",
    "least_squared_all_subs(all_preprocessed_data_balanced, norm=True,window=1)\n",
    "print(\"Window 5\")\n",
    "least_squared_all_subs(all_preprocessed_data_balanced, norm=True,window=5)\n",
    "print(\"Window 10\")\n",
    "least_squared_all_subs(all_preprocessed_data_balanced, norm=True,window=10)\n",
    "print(\"Window 15\")\n",
    "least_squared_all_subs(all_preprocessed_data_balanced, norm=True,window=15)"
   ]
  },
  {
   "cell_type": "markdown",
   "id": "71d9fa0d",
   "metadata": {},
   "source": [
    "### Least Squares Leave One Subject Out"
   ]
  },
  {
   "cell_type": "code",
   "execution_count": 28,
   "id": "c6238231",
   "metadata": {},
   "outputs": [],
   "source": [
    "def least_squared_leave_one_out(data, norm = False, window = 1):\n",
    "    all_preds = []\n",
    "    all_true = []\n",
    "    \n",
    "    for i in range(20):\n",
    "        leave_one_out = np.vstack([data[j] for j in range(20) if j != i])\n",
    "        if(window == 1):    \n",
    "            X_train, y_train = leave_one_out[:, :-1].astype(float), leave_one_out[:, -1]\n",
    "            X_test, y_test = data[i][:, :-1].astype(float), data[i][:, -1]\n",
    "        else:\n",
    "            X_train, y_train = window_data(leave_one_out, window)\n",
    "            X_test, y_test = window_data(data[i], window)\n",
    "\n",
    "        if(norm):\n",
    "            X_train, X_test = normalize_data(X_train, X_test)\n",
    "                \n",
    "        clf = RidgeClassifier(random_state=42)\n",
    "        clf.fit(X_train, y_train)\n",
    "        y_pred = clf.predict(X_test)\n",
    "\n",
    "        all_preds.extend(y_pred)\n",
    "        all_true.extend(y_test)\n",
    "    \n",
    "    report_dict = classification_report(y_test, y_pred, output_dict=True, zero_division=0)\n",
    "    macro_avg = report_dict['macro avg']\n",
    "    \n",
    "    avg_precision = macro_avg['precision']\n",
    "    avg_recall = macro_avg['recall']\n",
    "    avg_f1_score = macro_avg['f1-score']\n",
    "    \n",
    "    print(\"Overall averages for 20 subjects with Least Sqaures classifier:\")\n",
    "    print(f\"Average Precision: {avg_precision:.3f}\")\n",
    "    print(f\"Average Recall: {avg_recall:.3f}\")\n",
    "    print(f\"Average F1-Score: {avg_f1_score:.3f}\")"
   ]
  },
  {
   "cell_type": "code",
   "execution_count": 29,
   "id": "048bfd37",
   "metadata": {},
   "outputs": [
    {
     "name": "stdout",
     "output_type": "stream",
     "text": [
      "Overall averages for 20 subjects with Least Sqaures classifier:\n",
      "Average Precision: 0.866\n",
      "Average Recall: 0.812\n",
      "Average F1-Score: 0.816\n"
     ]
    }
   ],
   "source": [
    "least_squared_leave_one_out(all_preprocessed_data_balanced, norm = True)"
   ]
  },
  {
   "cell_type": "markdown",
   "id": "c7b142d1",
   "metadata": {},
   "source": [
    "### KNN"
   ]
  },
  {
   "cell_type": "code",
   "execution_count": 30,
   "id": "76b9c6d5",
   "metadata": {},
   "outputs": [],
   "source": [
    "def knn_all_subs(data, norm=False, window=1):\n",
    "    precision_list_knn = []\n",
    "    recall_list_knn = []\n",
    "    f1_list_knn = []\n",
    "\n",
    "    for i in range(1, 21):\n",
    "        if window == 1:\n",
    "            X, y = data[i - 1][:, :-1].astype(float), data[i - 1][:, -1]\n",
    "        else:\n",
    "            X, y = window_data(data[i - 1], window)\n",
    "            \n",
    "        skf = StratifiedKFold(n_splits=5, shuffle=True, random_state=42)\n",
    "\n",
    "        all_preds = []\n",
    "        all_true = []\n",
    "\n",
    "        for train_index, test_index in skf.split(X, y):\n",
    "            X_train, X_test = X[train_index], X[test_index]\n",
    "            y_train, y_test = y[train_index], y[test_index]\n",
    "\n",
    "            if norm:\n",
    "                X_train, X_test = normalize_data(X_train, X_test)\n",
    "\n",
    "            knn = KNeighborsClassifier()\n",
    "            param_grid = {'n_neighbors': range(1, 21)}\n",
    "            grid_search = GridSearchCV(knn, param_grid, cv=5)\n",
    "            grid_search.fit(X_train, y_train)\n",
    "\n",
    "            best_k = grid_search.best_params_['n_neighbors']\n",
    "            final_knn = KNeighborsClassifier(n_neighbors=best_k)\n",
    "            final_knn.fit(X_train, y_train)\n",
    "            y_pred = final_knn.predict(X_test)\n",
    "\n",
    "            all_preds.extend(y_pred)\n",
    "            all_true.extend(y_test)\n",
    "\n",
    "        report_dict = classification_report(all_true, all_preds, output_dict=True, zero_division=0)\n",
    "        macro_avg = report_dict['macro avg']\n",
    "\n",
    "        avg_precision = macro_avg['precision']\n",
    "        avg_recall = macro_avg['recall']\n",
    "        avg_f1_score = macro_avg['f1-score']\n",
    "\n",
    "        precision_list_knn.append(avg_precision)\n",
    "        recall_list_knn.append(avg_recall)\n",
    "        f1_list_knn.append(avg_f1_score)\n",
    "\n",
    "    overall_avg_precision_knn = sum(precision_list_knn) / len(precision_list_knn)\n",
    "    overall_avg_recall_knn = sum(recall_list_knn) / len(recall_list_knn)\n",
    "    overall_avg_f1_knn = sum(f1_list_knn) / len(f1_list_knn)\n",
    "\n",
    "    print(\"Overall averages for 20 subjects with KNN classifier:\")\n",
    "    print(f\"Average Precision: {overall_avg_precision_knn:.3f}\")\n",
    "    print(f\"Average Recall: {overall_avg_recall_knn:.3f}\")\n",
    "    print(f\"Average F1-Score: {overall_avg_f1_knn:.3f}\")\n"
   ]
  },
  {
   "cell_type": "markdown",
   "id": "1129d60b",
   "metadata": {},
   "source": [
    "### KNN on Raw Data (Unbalanced)"
   ]
  },
  {
   "cell_type": "code",
   "execution_count": 31,
   "id": "38d81fa8",
   "metadata": {},
   "outputs": [
    {
     "name": "stdout",
     "output_type": "stream",
     "text": [
      "Overall averages for 20 subjects with KNN classifier:\n",
      "Average Precision: 0.939\n",
      "Average Recall: 0.943\n",
      "Average F1-Score: 0.941\n"
     ]
    }
   ],
   "source": [
    "knn_all_subs(all_raw_data, norm = False)"
   ]
  },
  {
   "cell_type": "markdown",
   "id": "c8d95d7f",
   "metadata": {},
   "source": [
    "### KNN on Raw Data (Balanced) "
   ]
  },
  {
   "cell_type": "code",
   "execution_count": 32,
   "id": "5214467b",
   "metadata": {},
   "outputs": [
    {
     "name": "stdout",
     "output_type": "stream",
     "text": [
      "Overall averages for 20 subjects with KNN classifier:\n",
      "Average Precision: 0.981\n",
      "Average Recall: 0.981\n",
      "Average F1-Score: 0.981\n"
     ]
    }
   ],
   "source": [
    "knn_all_subs(all_raw_data_balanced, norm = False)"
   ]
  },
  {
   "cell_type": "markdown",
   "id": "e00cc014",
   "metadata": {},
   "source": [
    "### KNN on Preprocessed (Unbalanced)"
   ]
  },
  {
   "cell_type": "code",
   "execution_count": 33,
   "id": "210a5688",
   "metadata": {},
   "outputs": [
    {
     "name": "stdout",
     "output_type": "stream",
     "text": [
      "Overall averages for 20 subjects with KNN classifier:\n",
      "Average Precision: 0.985\n",
      "Average Recall: 0.984\n",
      "Average F1-Score: 0.984\n"
     ]
    }
   ],
   "source": [
    "knn_all_subs(all_preprocessed_data, norm = True)"
   ]
  },
  {
   "cell_type": "markdown",
   "id": "e76a23fe",
   "metadata": {},
   "source": [
    "### KNN on Preprocessed (Balanced)"
   ]
  },
  {
   "cell_type": "code",
   "execution_count": 34,
   "id": "54802ebe",
   "metadata": {},
   "outputs": [
    {
     "name": "stdout",
     "output_type": "stream",
     "text": [
      "Overall averages for 20 subjects with KNN classifier:\n",
      "Average Precision: 0.991\n",
      "Average Recall: 0.991\n",
      "Average F1-Score: 0.991\n"
     ]
    }
   ],
   "source": [
    "knn_all_subs(all_preprocessed_data_balanced, norm = True)"
   ]
  },
  {
   "cell_type": "markdown",
   "id": "0dee4358",
   "metadata": {},
   "source": [
    "### Windows 1,5,10,15"
   ]
  },
  {
   "cell_type": "code",
   "execution_count": 35,
   "id": "ec096ce8",
   "metadata": {},
   "outputs": [
    {
     "name": "stdout",
     "output_type": "stream",
     "text": [
      "Window 1\n",
      "Overall averages for 20 subjects with KNN classifier:\n",
      "Average Precision: 0.991\n",
      "Average Recall: 0.991\n",
      "Average F1-Score: 0.991\n",
      "Window 5\n",
      "Overall averages for 20 subjects with KNN classifier:\n",
      "Average Precision: 0.978\n",
      "Average Recall: 0.979\n",
      "Average F1-Score: 0.978\n",
      "Window 10\n",
      "Overall averages for 20 subjects with KNN classifier:\n",
      "Average Precision: 0.968\n",
      "Average Recall: 0.969\n",
      "Average F1-Score: 0.967\n",
      "Window 15\n",
      "Overall averages for 20 subjects with KNN classifier:\n",
      "Average Precision: 0.964\n",
      "Average Recall: 0.964\n",
      "Average F1-Score: 0.962\n"
     ]
    }
   ],
   "source": [
    "print(\"Window 1\")\n",
    "knn_all_subs(all_preprocessed_data_balanced, norm=True,window=1)\n",
    "print(\"Window 5\")\n",
    "knn_all_subs(all_preprocessed_data_balanced, norm=True,window=5)\n",
    "print(\"Window 10\")\n",
    "knn_all_subs(all_preprocessed_data_balanced, norm=True,window=10)\n",
    "print(\"Window 15\")\n",
    "knn_all_subs(all_preprocessed_data_balanced, norm=True,window=15)"
   ]
  },
  {
   "cell_type": "markdown",
   "id": "8998128f",
   "metadata": {},
   "source": [
    "### KNN leave one subject out"
   ]
  },
  {
   "cell_type": "code",
   "execution_count": 36,
   "id": "85ee3f5a",
   "metadata": {},
   "outputs": [],
   "source": [
    "def knn_leave_one_out(data, norm=False, window=1, n_neighbors=5):\n",
    "    all_preds = []\n",
    "    all_true = []\n",
    "\n",
    "    for i in range(20):\n",
    "        leave_one_out = np.vstack([data[j] for j in range(20) if j != i])\n",
    "        \n",
    "        if window == 1:\n",
    "            X_train, y_train = leave_one_out[:, :-1].astype(float), leave_one_out[:, -1]\n",
    "            X_test, y_test = data[i][:, :-1].astype(float), data[i][:, -1]\n",
    "        else:\n",
    "            X_train, y_train = window_data(leave_one_out, window)\n",
    "            X_test, y_test = window_data(data[i], window)\n",
    "\n",
    "        if norm:\n",
    "            X_train, X_test = normalize_data(X_train, X_test)\n",
    "\n",
    "        knn = KNeighborsClassifier(n_neighbors=n_neighbors)\n",
    "        knn.fit(X_train, y_train)\n",
    "        y_pred = knn.predict(X_test)\n",
    "\n",
    "        all_preds.extend(y_pred)\n",
    "        all_true.extend(y_test)\n",
    "\n",
    "    report_dict = classification_report(all_true, all_preds, output_dict=True, zero_division=0)\n",
    "    macro_avg = report_dict['macro avg']\n",
    "    accuracy = accuracy_score(all_true, all_preds)\n",
    "\n",
    "    avg_precision = macro_avg['precision']\n",
    "    avg_recall = macro_avg['recall']\n",
    "    avg_f1_score = macro_avg['f1-score']\n",
    "\n",
    "    print(f\"Overall averages for 20 subjects with KNN classifier (k={n_neighbors}):\")\n",
    "    print(f\"Average Accuracy: {accuracy:.3f}\")\n",
    "    print(f\"Average Precision: {avg_precision:.3f}\")\n",
    "    print(f\"Average Recall: {avg_recall:.3f}\")\n",
    "    print(f\"Average F1-Score: {avg_f1_score:.3f}\")\n"
   ]
  },
  {
   "cell_type": "code",
   "execution_count": 37,
   "id": "8be0b4df",
   "metadata": {},
   "outputs": [
    {
     "name": "stdout",
     "output_type": "stream",
     "text": [
      "Overall averages for 20 subjects with KNN classifier (k=5):\n",
      "Average Accuracy: 0.588\n",
      "Average Precision: 0.595\n",
      "Average Recall: 0.603\n",
      "Average F1-Score: 0.597\n"
     ]
    }
   ],
   "source": [
    "knn_leave_one_out(all_preprocessed_data_balanced,True)"
   ]
  },
  {
   "cell_type": "markdown",
   "id": "7091f10a",
   "metadata": {},
   "source": [
    "## Fishers Linear Discriminant"
   ]
  },
  {
   "cell_type": "code",
   "execution_count": 38,
   "id": "966c2db3",
   "metadata": {},
   "outputs": [],
   "source": [
    "def fishers_lda_all_subs(data, norm=False, window=1):\n",
    "    precision_list_fishers = []\n",
    "    recall_list_fishers = []\n",
    "    f1_list_fishers = []\n",
    "    accuracy_list_fishers = []\n",
    "\n",
    "    for i in range(1, 21):\n",
    "        if window == 1:\n",
    "            X, y = data[i - 1][:, :-1].astype(float), data[i - 1][:, -1]\n",
    "        else:\n",
    "            X, y = window_data(data[i - 1], window)\n",
    "\n",
    "        skf = StratifiedKFold(n_splits=5, shuffle=True, random_state=42)\n",
    "\n",
    "        all_preds = []\n",
    "        all_true = []\n",
    "\n",
    "        for train_index, test_index in skf.split(X, y):\n",
    "            X_train, X_test = X[train_index], X[test_index]\n",
    "            y_train, y_test = y[train_index], y[test_index]\n",
    "\n",
    "            if norm:\n",
    "                X_train, X_test = normalize_data(X_train, X_test)\n",
    "\n",
    "            lda = LinearDiscriminantAnalysis()\n",
    "            lda.fit(X_train, y_train)\n",
    "            y_pred = lda.predict(X_test)\n",
    "\n",
    "            all_preds.extend(y_pred)\n",
    "            all_true.extend(y_test)\n",
    "\n",
    "        report_dict = classification_report(all_true, all_preds, output_dict=True, zero_division=0)\n",
    "        macro_avg = report_dict['macro avg']\n",
    "        accuracy = report_dict['accuracy']\n",
    "\n",
    "        avg_precision = macro_avg['precision']\n",
    "        avg_recall = macro_avg['recall']\n",
    "        avg_f1_score = macro_avg['f1-score']\n",
    "\n",
    "        precision_list_fishers.append(avg_precision)\n",
    "        recall_list_fishers.append(avg_recall)\n",
    "        f1_list_fishers.append(avg_f1_score)\n",
    "        accuracy_list_fishers.append(accuracy)\n",
    "\n",
    "    overall_avg_precision_fishers = sum(precision_list_fishers) / len(precision_list_fishers)\n",
    "    overall_avg_recall_fishers = sum(recall_list_fishers) / len(recall_list_fishers)\n",
    "    overall_avg_f1_fishers = sum(f1_list_fishers) / len(f1_list_fishers)\n",
    "    overall_avg_accuracy_fishers = sum(accuracy_list_fishers) / len(accuracy_list_fishers)\n",
    "\n",
    "    print(\"Overall averages for 20 subjects with Fisher's LDA classifier:\")\n",
    "    print(f\"Average Accuracy: {overall_avg_accuracy_fishers:.3f}\")\n",
    "    print(f\"Average Precision: {overall_avg_precision_fishers:.3f}\")\n",
    "    print(f\"Average Recall: {overall_avg_recall_fishers:.3f}\")\n",
    "    print(f\"Average F1-Score: {overall_avg_f1_fishers:.3f}\")\n"
   ]
  },
  {
   "cell_type": "markdown",
   "id": "6fac29d3",
   "metadata": {},
   "source": [
    "### FLDA on Raw Data (Unbalanced)"
   ]
  },
  {
   "cell_type": "code",
   "execution_count": 39,
   "id": "ac44829e",
   "metadata": {},
   "outputs": [
    {
     "name": "stdout",
     "output_type": "stream",
     "text": [
      "Overall averages for 20 subjects with Fisher's LDA classifier:\n",
      "Average Accuracy: 0.889\n",
      "Average Precision: 0.888\n",
      "Average Recall: 0.868\n",
      "Average F1-Score: 0.871\n"
     ]
    }
   ],
   "source": [
    "fishers_lda_all_subs(all_raw_data,norm = False)"
   ]
  },
  {
   "cell_type": "markdown",
   "id": "4c940768",
   "metadata": {},
   "source": [
    "### FLDA on Raw Data (Balanced)"
   ]
  },
  {
   "cell_type": "code",
   "execution_count": 40,
   "id": "10d37d4f",
   "metadata": {},
   "outputs": [
    {
     "name": "stdout",
     "output_type": "stream",
     "text": [
      "Overall averages for 20 subjects with Fisher's LDA classifier:\n",
      "Average Accuracy: 0.963\n",
      "Average Precision: 0.965\n",
      "Average Recall: 0.966\n",
      "Average F1-Score: 0.965\n"
     ]
    }
   ],
   "source": [
    "fishers_lda_all_subs(all_raw_data_balanced,norm = False)"
   ]
  },
  {
   "cell_type": "markdown",
   "id": "c52330c0",
   "metadata": {},
   "source": [
    "### FLDA on Preproccesed Data (Unbalanced)"
   ]
  },
  {
   "cell_type": "code",
   "execution_count": 41,
   "id": "08b1c8a2",
   "metadata": {},
   "outputs": [
    {
     "name": "stdout",
     "output_type": "stream",
     "text": [
      "Overall averages for 20 subjects with Fisher's LDA classifier:\n",
      "Average Accuracy: 0.890\n",
      "Average Precision: 0.889\n",
      "Average Recall: 0.870\n",
      "Average F1-Score: 0.872\n"
     ]
    }
   ],
   "source": [
    "fishers_lda_all_subs(all_preprocessed_data,norm = True)"
   ]
  },
  {
   "cell_type": "markdown",
   "id": "2c6fd92e",
   "metadata": {},
   "source": [
    "### FLDA on Preproccesed Data (Balanced)"
   ]
  },
  {
   "cell_type": "code",
   "execution_count": 42,
   "id": "5d3918a3",
   "metadata": {},
   "outputs": [
    {
     "name": "stdout",
     "output_type": "stream",
     "text": [
      "Overall averages for 20 subjects with Fisher's LDA classifier:\n",
      "Average Accuracy: 0.964\n",
      "Average Precision: 0.966\n",
      "Average Recall: 0.967\n",
      "Average F1-Score: 0.966\n"
     ]
    }
   ],
   "source": [
    "fishers_lda_all_subs(all_preprocessed_data_balanced,norm = True)"
   ]
  },
  {
   "cell_type": "markdown",
   "id": "eb3e83ae",
   "metadata": {},
   "source": [
    "### Windows 1,5,10,15"
   ]
  },
  {
   "cell_type": "code",
   "execution_count": 43,
   "id": "24bc695d",
   "metadata": {},
   "outputs": [
    {
     "name": "stdout",
     "output_type": "stream",
     "text": [
      "Window 1\n",
      "Overall averages for 20 subjects with Fisher's LDA classifier:\n",
      "Average Accuracy: 0.964\n",
      "Average Precision: 0.966\n",
      "Average Recall: 0.967\n",
      "Average F1-Score: 0.966\n",
      "Window 5\n",
      "Overall averages for 20 subjects with Fisher's LDA classifier:\n",
      "Average Accuracy: 0.943\n",
      "Average Precision: 0.946\n",
      "Average Recall: 0.948\n",
      "Average F1-Score: 0.945\n",
      "Window 10\n",
      "Overall averages for 20 subjects with Fisher's LDA classifier:\n",
      "Average Accuracy: 0.862\n",
      "Average Precision: 0.865\n",
      "Average Recall: 0.870\n",
      "Average F1-Score: 0.863\n",
      "Window 15\n",
      "Overall averages for 20 subjects with Fisher's LDA classifier:\n",
      "Average Accuracy: 0.846\n",
      "Average Precision: 0.853\n",
      "Average Recall: 0.856\n",
      "Average F1-Score: 0.848\n"
     ]
    }
   ],
   "source": [
    "print(\"Window 1\")\n",
    "fishers_lda_all_subs(all_preprocessed_data_balanced, norm=True,window=1)\n",
    "print(\"Window 5\")\n",
    "fishers_lda_all_subs(all_preprocessed_data_balanced, norm=True,window=5)\n",
    "print(\"Window 10\")\n",
    "fishers_lda_all_subs(all_preprocessed_data_balanced, norm=True,window=10)\n",
    "print(\"Window 15\")\n",
    "fishers_lda_all_subs(all_preprocessed_data_balanced, norm=True,window=15)"
   ]
  },
  {
   "cell_type": "markdown",
   "id": "89ff4c0f",
   "metadata": {},
   "source": [
    "### Fishers Leave One Subject out"
   ]
  },
  {
   "cell_type": "code",
   "execution_count": 44,
   "id": "946f0e09",
   "metadata": {},
   "outputs": [],
   "source": [
    "def fishers_lda_leave_one_out(data, norm=False, window=1):\n",
    "    all_preds = []\n",
    "    all_true = []\n",
    "\n",
    "    for i in range(20):\n",
    "        leave_one_out = np.vstack([data[j] for j in range(20) if j != i])\n",
    "        \n",
    "        if window == 1:\n",
    "            X_train, y_train = leave_one_out[:, :-1].astype(float), leave_one_out[:, -1]\n",
    "            X_test, y_test = data[i][:, :-1].astype(float), data[i][:, -1]\n",
    "        else:\n",
    "            X_train, y_train = window_data(leave_one_out, window)\n",
    "            X_test, y_test = window_data(data[i], window)\n",
    "\n",
    "        if norm:\n",
    "            X_train, X_test = normalize_data(X_train, X_test)\n",
    "\n",
    "        lda = LinearDiscriminantAnalysis()\n",
    "        lda.fit(X_train, y_train)\n",
    "        y_pred = lda.predict(X_test)\n",
    "\n",
    "        all_preds.extend(y_pred)\n",
    "        all_true.extend(y_test)\n",
    "\n",
    "    report_dict = classification_report(all_true, all_preds, output_dict=True, zero_division=0)\n",
    "    macro_avg = report_dict['macro avg']\n",
    "    accuracy = accuracy_score(all_true, all_preds)\n",
    "\n",
    "    avg_precision = macro_avg['precision']\n",
    "    avg_recall = macro_avg['recall']\n",
    "    avg_f1_score = macro_avg['f1-score']\n",
    "\n",
    "    print(\"Overall averages for 20 subjects with Fisher's LDA classifier:\")\n",
    "    print(f\"Average Accuracy: {accuracy:.3f}\")\n",
    "    print(f\"Average Precision: {avg_precision:.3f}\")\n",
    "    print(f\"Average Recall: {avg_recall:.3f}\")\n",
    "    print(f\"Average F1-Score: {avg_f1_score:.3f}\")\n"
   ]
  },
  {
   "cell_type": "code",
   "execution_count": 45,
   "id": "2ae6ca97",
   "metadata": {},
   "outputs": [
    {
     "name": "stdout",
     "output_type": "stream",
     "text": [
      "Overall averages for 20 subjects with Fisher's LDA classifier:\n",
      "Average Accuracy: 0.699\n",
      "Average Precision: 0.707\n",
      "Average Recall: 0.708\n",
      "Average F1-Score: 0.707\n"
     ]
    }
   ],
   "source": [
    "fishers_lda_leave_one_out(all_preprocessed_data_balanced,True)"
   ]
  },
  {
   "cell_type": "markdown",
   "id": "1667f212",
   "metadata": {},
   "source": [
    "## Naive Bayes"
   ]
  },
  {
   "cell_type": "code",
   "execution_count": 46,
   "id": "cde60bce",
   "metadata": {},
   "outputs": [],
   "source": [
    "def naive_bayes_all_subs(data, norm=False, window=1):\n",
    "    precision_list_nb = []\n",
    "    recall_list_nb = []\n",
    "    f1_list_nb = []\n",
    "    accuracy_list_nb = []\n",
    "\n",
    "    for i in range(1, 21):\n",
    "        if window == 1:\n",
    "            X, y = data[i - 1][:, :-1].astype(float), data[i - 1][:, -1]\n",
    "        else:\n",
    "            X, y = window_data(data[i - 1], window)\n",
    "\n",
    "        skf = StratifiedKFold(n_splits=5, shuffle=True, random_state=42)\n",
    "\n",
    "        all_preds = []\n",
    "        all_true = []\n",
    "\n",
    "        for train_index, test_index in skf.split(X, y):\n",
    "            X_train, X_test = X[train_index], X[test_index]\n",
    "            y_train, y_test = y[train_index], y[test_index]\n",
    "\n",
    "            if norm:\n",
    "                X_train, X_test = normalize_data(X_train, X_test)\n",
    "\n",
    "            nb = GaussianNB()\n",
    "            nb.fit(X_train, y_train)\n",
    "            y_pred = nb.predict(X_test)\n",
    "\n",
    "            all_preds.extend(y_pred)\n",
    "            all_true.extend(y_test)\n",
    "\n",
    "        report_dict = classification_report(all_true, all_preds, output_dict=True, zero_division=0)\n",
    "        macro_avg = report_dict['macro avg']\n",
    "        accuracy = report_dict['accuracy']\n",
    "\n",
    "        avg_precision = macro_avg['precision']\n",
    "        avg_recall = macro_avg['recall']\n",
    "        avg_f1_score = macro_avg['f1-score']\n",
    "\n",
    "        precision_list_nb.append(avg_precision)\n",
    "        recall_list_nb.append(avg_recall)\n",
    "        f1_list_nb.append(avg_f1_score)\n",
    "        accuracy_list_nb.append(accuracy)\n",
    "\n",
    "    overall_avg_precision_nb = sum(precision_list_nb) / len(precision_list_nb)\n",
    "    overall_avg_recall_nb = sum(recall_list_nb) / len(recall_list_nb)\n",
    "    overall_avg_f1_nb = sum(f1_list_nb) / len(f1_list_nb)\n",
    "    overall_avg_accuracy_nb = sum(accuracy_list_nb) / len(accuracy_list_nb)\n",
    "\n",
    "    print(\"Overall averages for 20 subjects with Naive Bayes classifier:\")\n",
    "    print(f\"Average Accuracy: {overall_avg_accuracy_nb:.3f}\")\n",
    "    print(f\"Average Precision: {overall_avg_precision_nb:.3f}\")\n",
    "    print(f\"Average Recall: {overall_avg_recall_nb:.3f}\")\n",
    "    print(f\"Average F1-Score: {overall_avg_f1_nb:.3f}\")\n"
   ]
  },
  {
   "cell_type": "markdown",
   "id": "c9686b13",
   "metadata": {},
   "source": [
    "### Naive Bayes on Raw Data (Unbalanced)"
   ]
  },
  {
   "cell_type": "code",
   "execution_count": 47,
   "id": "df6453a0",
   "metadata": {},
   "outputs": [
    {
     "name": "stdout",
     "output_type": "stream",
     "text": [
      "Overall averages for 20 subjects with Naive Bayes classifier:\n",
      "Average Accuracy: 0.928\n",
      "Average Precision: 0.926\n",
      "Average Recall: 0.931\n",
      "Average F1-Score: 0.924\n"
     ]
    }
   ],
   "source": [
    "naive_bayes_all_subs(all_raw_data, norm=False)"
   ]
  },
  {
   "cell_type": "markdown",
   "id": "dabf90f8",
   "metadata": {},
   "source": [
    "### Naive Bayes on Raw Data (Balanced)"
   ]
  },
  {
   "cell_type": "code",
   "execution_count": 48,
   "id": "40b78dc8",
   "metadata": {},
   "outputs": [
    {
     "name": "stdout",
     "output_type": "stream",
     "text": [
      "Overall averages for 20 subjects with Naive Bayes classifier:\n",
      "Average Accuracy: 0.975\n",
      "Average Precision: 0.977\n",
      "Average Recall: 0.978\n",
      "Average F1-Score: 0.977\n"
     ]
    }
   ],
   "source": [
    "naive_bayes_all_subs(all_raw_data_balanced, norm=False)"
   ]
  },
  {
   "cell_type": "markdown",
   "id": "a01786e4",
   "metadata": {},
   "source": [
    "### Naive Bayes on Preproccesed Data (Unbalanced)"
   ]
  },
  {
   "cell_type": "code",
   "execution_count": 49,
   "id": "6118eb71",
   "metadata": {},
   "outputs": [
    {
     "name": "stdout",
     "output_type": "stream",
     "text": [
      "Overall averages for 20 subjects with Naive Bayes classifier:\n",
      "Average Accuracy: 0.929\n",
      "Average Precision: 0.927\n",
      "Average Recall: 0.931\n",
      "Average F1-Score: 0.924\n"
     ]
    }
   ],
   "source": [
    "naive_bayes_all_subs(all_preprocessed_data, norm=True)"
   ]
  },
  {
   "cell_type": "markdown",
   "id": "02032594",
   "metadata": {},
   "source": [
    "### Naive Bayes on Preproccesed Data (Balanced)"
   ]
  },
  {
   "cell_type": "code",
   "execution_count": 50,
   "id": "3b80c063",
   "metadata": {},
   "outputs": [
    {
     "name": "stdout",
     "output_type": "stream",
     "text": [
      "Overall averages for 20 subjects with Naive Bayes classifier:\n",
      "Average Accuracy: 0.976\n",
      "Average Precision: 0.978\n",
      "Average Recall: 0.978\n",
      "Average F1-Score: 0.977\n"
     ]
    }
   ],
   "source": [
    "naive_bayes_all_subs(all_preprocessed_data_balanced, norm=True)"
   ]
  },
  {
   "cell_type": "markdown",
   "id": "5314cdc0",
   "metadata": {},
   "source": [
    "### Windows 1,5,10,15"
   ]
  },
  {
   "cell_type": "code",
   "execution_count": 51,
   "id": "2acdf53e",
   "metadata": {},
   "outputs": [
    {
     "name": "stdout",
     "output_type": "stream",
     "text": [
      "Window 1\n",
      "Overall averages for 20 subjects with Naive Bayes classifier:\n",
      "Average Accuracy: 0.976\n",
      "Average Precision: 0.978\n",
      "Average Recall: 0.978\n",
      "Average F1-Score: 0.977\n",
      "Window 5\n",
      "Overall averages for 20 subjects with Naive Bayes classifier:\n",
      "Average Accuracy: 0.973\n",
      "Average Precision: 0.975\n",
      "Average Recall: 0.975\n",
      "Average F1-Score: 0.975\n",
      "Window 10\n",
      "Overall averages for 20 subjects with Naive Bayes classifier:\n",
      "Average Accuracy: 0.961\n",
      "Average Precision: 0.965\n",
      "Average Recall: 0.961\n",
      "Average F1-Score: 0.962\n",
      "Window 15\n",
      "Overall averages for 20 subjects with Naive Bayes classifier:\n",
      "Average Accuracy: 0.949\n",
      "Average Precision: 0.957\n",
      "Average Recall: 0.948\n",
      "Average F1-Score: 0.950\n"
     ]
    }
   ],
   "source": [
    "print(\"Window 1\")\n",
    "naive_bayes_all_subs(all_preprocessed_data_balanced, norm=True,window=1)\n",
    "print(\"Window 5\")\n",
    "naive_bayes_all_subs(all_preprocessed_data_balanced, norm=True,window=5)\n",
    "print(\"Window 10\")\n",
    "naive_bayes_all_subs(all_preprocessed_data_balanced, norm=True,window=10)\n",
    "print(\"Window 15\")\n",
    "naive_bayes_all_subs(all_preprocessed_data_balanced, norm=True,window=15)"
   ]
  },
  {
   "cell_type": "markdown",
   "id": "887af4be",
   "metadata": {},
   "source": [
    "### Naive Bayes Leave One Subject out"
   ]
  },
  {
   "cell_type": "code",
   "execution_count": 52,
   "id": "a907de33",
   "metadata": {},
   "outputs": [],
   "source": [
    "def naive_bayes_leave_one_out(data, norm=False, window=1):\n",
    "    all_preds = []\n",
    "    all_true = []\n",
    "\n",
    "    for i in range(20):\n",
    "        leave_one_out = np.vstack([data[j] for j in range(20) if j != i])\n",
    "        \n",
    "        if window == 1:\n",
    "            X_train, y_train = leave_one_out[:, :-1].astype(float), leave_one_out[:, -1]\n",
    "            X_test, y_test = data[i][:, :-1].astype(float), data[i][:, -1]\n",
    "        else:\n",
    "            X_train, y_train = window_data(leave_one_out, window)\n",
    "            X_test, y_test = window_data(data[i], window)\n",
    "\n",
    "        if norm:\n",
    "            X_train, X_test = normalize_data(X_train, X_test)\n",
    "\n",
    "        nb = GaussianNB()\n",
    "        nb.fit(X_train, y_train)\n",
    "        y_pred = nb.predict(X_test)\n",
    "\n",
    "        all_preds.extend(y_pred)\n",
    "        all_true.extend(y_test)\n",
    "\n",
    "    report_dict = classification_report(all_true, all_preds, output_dict=True, zero_division=0)\n",
    "    macro_avg = report_dict['macro avg']\n",
    "    accuracy = accuracy_score(all_true, all_preds)\n",
    "\n",
    "    avg_precision = macro_avg['precision']\n",
    "    avg_recall = macro_avg['recall']\n",
    "    avg_f1_score = macro_avg['f1-score']\n",
    "\n",
    "    print(\"Overall averages for 20 subjects with Naive Bayes classifier:\")\n",
    "    print(f\"Average Accuracy: {accuracy:.3f}\")\n",
    "    print(f\"Average Precision: {avg_precision:.3f}\")\n",
    "    print(f\"Average Recall: {avg_recall:.3f}\")\n",
    "    print(f\"Average F1-Score: {avg_f1_score:.3f}\")\n"
   ]
  },
  {
   "cell_type": "code",
   "execution_count": 53,
   "id": "1d2d4818",
   "metadata": {},
   "outputs": [
    {
     "name": "stdout",
     "output_type": "stream",
     "text": [
      "Overall averages for 20 subjects with Naive Bayes classifier:\n",
      "Average Accuracy: 0.689\n",
      "Average Precision: 0.695\n",
      "Average Recall: 0.704\n",
      "Average F1-Score: 0.697\n"
     ]
    }
   ],
   "source": [
    "naive_bayes_leave_one_out(all_preprocessed_data_balanced,True)"
   ]
  },
  {
   "cell_type": "markdown",
   "id": "6d66ee41",
   "metadata": {},
   "source": [
    "## Random Forest"
   ]
  },
  {
   "cell_type": "code",
   "execution_count": 54,
   "id": "68b10f48",
   "metadata": {},
   "outputs": [],
   "source": [
    "def random_forest_all_subs(data, norm=False, window=1):\n",
    "    precision_list_rf = []\n",
    "    recall_list_rf = []\n",
    "    f1_list_rf = []\n",
    "    accuracy_list_rf = []\n",
    "\n",
    "    for i in range(1, 21):\n",
    "        if window == 1:\n",
    "            X, y = data[i - 1][:, :-1].astype(float), data[i - 1][:, -1]\n",
    "        else:\n",
    "            X, y = window_data(data[i - 1], window)\n",
    "\n",
    "        skf = StratifiedKFold(n_splits=5, shuffle=True, random_state=42)\n",
    "\n",
    "        all_preds = []\n",
    "        all_true = []\n",
    "\n",
    "        for train_index, test_index in skf.split(X, y):\n",
    "            X_train, X_test = X[train_index], X[test_index]\n",
    "            y_train, y_test = y[train_index], y[test_index]\n",
    "\n",
    "            if norm:\n",
    "                X_train, X_test = normalize_data(X_train, X_test)\n",
    "\n",
    "            rf = RandomForestClassifier(random_state=42)\n",
    "            rf.fit(X_train, y_train)\n",
    "            y_pred = rf.predict(X_test)\n",
    "\n",
    "            all_preds.extend(y_pred)\n",
    "            all_true.extend(y_test)\n",
    "\n",
    "        report_dict = classification_report(all_true, all_preds, output_dict=True, zero_division=0)\n",
    "        macro_avg = report_dict['macro avg']\n",
    "        accuracy = report_dict['accuracy']\n",
    "\n",
    "        avg_precision = macro_avg['precision']\n",
    "        avg_recall = macro_avg['recall']\n",
    "        avg_f1_score = macro_avg['f1-score']\n",
    "\n",
    "        precision_list_rf.append(avg_precision)\n",
    "        recall_list_rf.append(avg_recall)\n",
    "        f1_list_rf.append(avg_f1_score)\n",
    "        accuracy_list_rf.append(accuracy)\n",
    "\n",
    "    overall_avg_precision_rf = sum(precision_list_rf) / len(precision_list_rf)\n",
    "    overall_avg_recall_rf = sum(recall_list_rf) / len(recall_list_rf)\n",
    "    overall_avg_f1_rf = sum(f1_list_rf) / len(f1_list_rf)\n",
    "    overall_avg_accuracy_rf = sum(accuracy_list_rf) / len(accuracy_list_rf)\n",
    "\n",
    "    print(\"Overall averages for 20 subjects with Random Forest classifier:\")\n",
    "    print(f\"Average Accuracy: {overall_avg_accuracy_rf:.3f}\")\n",
    "    print(f\"Average Precision: {overall_avg_precision_rf:.3f}\")\n",
    "    print(f\"Average Recall: {overall_avg_recall_rf:.3f}\")\n",
    "    print(f\"Average F1-Score: {overall_avg_f1_rf:.3f}\")\n"
   ]
  },
  {
   "cell_type": "markdown",
   "id": "88113596",
   "metadata": {},
   "source": [
    "### Random Forest on Raw Data (Unbalanced)"
   ]
  },
  {
   "cell_type": "code",
   "execution_count": 55,
   "id": "2d72b926",
   "metadata": {},
   "outputs": [
    {
     "name": "stdout",
     "output_type": "stream",
     "text": [
      "Overall averages for 20 subjects with Random Forest classifier:\n",
      "Average Accuracy: 0.996\n",
      "Average Precision: 0.996\n",
      "Average Recall: 0.996\n",
      "Average F1-Score: 0.996\n"
     ]
    }
   ],
   "source": [
    "random_forest_all_subs(all_raw_data, norm=False)"
   ]
  },
  {
   "cell_type": "markdown",
   "id": "e55404dc",
   "metadata": {},
   "source": [
    "### Random Forest on Raw Data (Balanced)"
   ]
  },
  {
   "cell_type": "code",
   "execution_count": 56,
   "id": "a3ed6a78",
   "metadata": {},
   "outputs": [
    {
     "name": "stdout",
     "output_type": "stream",
     "text": [
      "Overall averages for 20 subjects with Random Forest classifier:\n",
      "Average Accuracy: 0.998\n",
      "Average Precision: 0.998\n",
      "Average Recall: 0.998\n",
      "Average F1-Score: 0.998\n"
     ]
    }
   ],
   "source": [
    "random_forest_all_subs(all_raw_data_balanced, norm=False)"
   ]
  },
  {
   "cell_type": "markdown",
   "id": "6aabbbbc",
   "metadata": {},
   "source": [
    "### Random Forest Preproccesed (Unbalanced)"
   ]
  },
  {
   "cell_type": "code",
   "execution_count": 57,
   "id": "ffeb885b",
   "metadata": {},
   "outputs": [
    {
     "name": "stdout",
     "output_type": "stream",
     "text": [
      "Overall averages for 20 subjects with Random Forest classifier:\n",
      "Average Accuracy: 0.997\n",
      "Average Precision: 0.996\n",
      "Average Recall: 0.996\n",
      "Average F1-Score: 0.996\n"
     ]
    }
   ],
   "source": [
    "random_forest_all_subs(all_preprocessed_data, norm=True)"
   ]
  },
  {
   "cell_type": "markdown",
   "id": "a83ca0c2",
   "metadata": {},
   "source": [
    "### Random Forest Preproccesed (Balanced)"
   ]
  },
  {
   "cell_type": "code",
   "execution_count": 58,
   "id": "996c997e",
   "metadata": {},
   "outputs": [
    {
     "name": "stdout",
     "output_type": "stream",
     "text": [
      "Overall averages for 20 subjects with Random Forest classifier:\n",
      "Average Accuracy: 0.998\n",
      "Average Precision: 0.998\n",
      "Average Recall: 0.998\n",
      "Average F1-Score: 0.998\n"
     ]
    }
   ],
   "source": [
    "random_forest_all_subs(all_preprocessed_data_balanced, norm=True)"
   ]
  },
  {
   "cell_type": "markdown",
   "id": "f165c52a",
   "metadata": {},
   "source": [
    "### Random Forest Windows 1,5,10,15"
   ]
  },
  {
   "cell_type": "code",
   "execution_count": 59,
   "id": "ebbe4935",
   "metadata": {},
   "outputs": [
    {
     "name": "stdout",
     "output_type": "stream",
     "text": [
      "Window 1\n",
      "Overall averages for 20 subjects with Random Forest classifier:\n",
      "Average Accuracy: 0.998\n",
      "Average Precision: 0.998\n",
      "Average Recall: 0.998\n",
      "Average F1-Score: 0.998\n",
      "Window 5\n",
      "Overall averages for 20 subjects with Random Forest classifier:\n",
      "Average Accuracy: 0.992\n",
      "Average Precision: 0.992\n",
      "Average Recall: 0.992\n",
      "Average F1-Score: 0.992\n",
      "Window 10\n",
      "Overall averages for 20 subjects with Random Forest classifier:\n",
      "Average Accuracy: 0.979\n",
      "Average Precision: 0.980\n",
      "Average Recall: 0.981\n",
      "Average F1-Score: 0.980\n",
      "Window 15\n",
      "Overall averages for 20 subjects with Random Forest classifier:\n",
      "Average Accuracy: 0.974\n",
      "Average Precision: 0.976\n",
      "Average Recall: 0.977\n",
      "Average F1-Score: 0.976\n"
     ]
    }
   ],
   "source": [
    "print(\"Window 1\")\n",
    "random_forest_all_subs(all_preprocessed_data_balanced, norm=True,window=1)\n",
    "print(\"Window 5\")\n",
    "random_forest_all_subs(all_preprocessed_data_balanced, norm=True,window=5)\n",
    "print(\"Window 10\")\n",
    "random_forest_all_subs(all_preprocessed_data_balanced, norm=True,window=10)\n",
    "print(\"Window 15\")\n",
    "random_forest_all_subs(all_preprocessed_data_balanced, norm=True,window=15)"
   ]
  },
  {
   "cell_type": "markdown",
   "id": "a93f535e",
   "metadata": {},
   "source": [
    "###  Random Forest Leave subject out"
   ]
  },
  {
   "cell_type": "code",
   "execution_count": 60,
   "id": "88ce25b8",
   "metadata": {},
   "outputs": [],
   "source": [
    "def random_forest_leave_one_out(data, norm=False, window=1):\n",
    "    all_preds = []\n",
    "    all_true = []\n",
    "\n",
    "    for i in range(20):\n",
    "        leave_one_out = np.vstack([data[j] for j in range(20) if j != i])\n",
    "        \n",
    "        if window == 1:\n",
    "            X_train, y_train = leave_one_out[:, :-1].astype(float), leave_one_out[:, -1]\n",
    "            X_test, y_test = data[i][:, :-1].astype(float), data[i][:, -1]\n",
    "        else:\n",
    "            X_train, y_train = window_data(leave_one_out, window)\n",
    "            X_test, y_test = window_data(data[i], window)\n",
    "\n",
    "        if norm:\n",
    "            X_train, X_test = normalize_data(X_train, X_test)\n",
    "\n",
    "        rf = RandomForestClassifier(random_state=42)\n",
    "        rf.fit(X_train, y_train)\n",
    "        y_pred = rf.predict(X_test)\n",
    "\n",
    "        all_preds.extend(y_pred)\n",
    "        all_true.extend(y_test)\n",
    "\n",
    "    report_dict = classification_report(all_true, all_preds, output_dict=True, zero_division=0)\n",
    "    macro_avg = report_dict['macro avg']\n",
    "    accuracy = accuracy_score(all_true, all_preds)\n",
    "\n",
    "    avg_precision = macro_avg['precision']\n",
    "    avg_recall = macro_avg['recall']\n",
    "    avg_f1_score = macro_avg['f1-score']\n",
    "\n",
    "    print(\"Overall averages for 20 subjects with Random Forest classifier:\")\n",
    "    print(f\"Average Accuracy: {accuracy:.3f}\")\n",
    "    print(f\"Average Precision: {avg_precision:.3f}\")\n",
    "    print(f\"Average Recall: {avg_recall:.3f}\")\n",
    "    print(f\"Average F1-Score: {avg_f1_score:.3f}\")\n"
   ]
  },
  {
   "cell_type": "code",
   "execution_count": 61,
   "id": "62e21f05",
   "metadata": {},
   "outputs": [
    {
     "name": "stdout",
     "output_type": "stream",
     "text": [
      "Overall averages for 20 subjects with Random Forest classifier:\n",
      "Average Accuracy: 0.627\n",
      "Average Precision: 0.640\n",
      "Average Recall: 0.635\n",
      "Average F1-Score: 0.628\n"
     ]
    }
   ],
   "source": [
    "random_forest_leave_one_out(all_preprocessed_data_balanced,True)"
   ]
  }
 ],
 "metadata": {
  "kernelspec": {
   "display_name": "base",
   "language": "python",
   "name": "python3"
  },
  "language_info": {
   "codemirror_mode": {
    "name": "ipython",
    "version": 3
   },
   "file_extension": ".py",
   "mimetype": "text/x-python",
   "name": "python",
   "nbconvert_exporter": "python",
   "pygments_lexer": "ipython3",
   "version": "3.12.7"
  }
 },
 "nbformat": 4,
 "nbformat_minor": 5
}
