{
 "cells": [
  {
   "cell_type": "code",
   "execution_count": 4,
   "id": "b136a408",
   "metadata": {},
   "outputs": [
    {
     "name": "stdout",
     "output_type": "stream",
     "text": [
      "hellllloooooooooooo\n"
     ]
    }
   ],
   "source": [
    "import wfdb\n",
    "print (\"hellllloooooooooooo\")"
   ]
  },
  {
   "cell_type": "code",
   "execution_count": null,
   "id": "df494514",
   "metadata": {},
   "outputs": [],
   "source": []
  }
 ],
 "metadata": {
  "kernelspec": {
   "display_name": "Python 3",
   "language": "python",
   "name": "python3"
  },
  "language_info": {
   "codemirror_mode": {
    "name": "ipython",
    "version": 3
   },
   "file_extension": ".py",
   "mimetype": "text/x-python",
   "name": "python",
   "nbconvert_exporter": "python",
   "pygments_lexer": "ipython3",
   "version": "3.13.0"
  }
 },
 "nbformat": 4,
 "nbformat_minor": 5
}
